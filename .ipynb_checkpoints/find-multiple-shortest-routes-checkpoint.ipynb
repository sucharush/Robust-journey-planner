{
 "cells": [
  {
   "cell_type": "code",
   "execution_count": 1,
   "id": "0fc19d37-6778-4c3b-bab8-8f26e56c4b0e",
   "metadata": {},
   "outputs": [],
   "source": [
    "import pandas as pd\n",
    "import numpy as np\n",
    "import networkx as nx\n",
    "import heapq\n",
    "import copy"
   ]
  },
  {
   "cell_type": "code",
   "execution_count": 2,
   "id": "a8746ada-9858-4e5e-b8be-303bebbf72d8",
   "metadata": {},
   "outputs": [],
   "source": [
    "df = pd.read_csv(\"/home/jovyan/homework2/data/stop_times.csv\", index_col=0)\n",
    "stops_lausanne_all = pd.read_csv(\"/home/jovyan/homework2/data/stops.csv\", index_col=0)\n",
    "stops_to_stops = pd.read_csv(\"/home/jovyan/homework2/data/stop_to_stop.csv\", index_col=0)\n",
    "df.columns = ['trip_id', 'stop_id', 'departure_time', 'arrival_time']\n",
    "stops_lausanne_all.columns = ['stop_id', 'stop_name','stop_lat','stop_lon']\n",
    "stops_to_stops.columns = ['stop_id_a', 'stop_id_b', 'distance']"
   ]
  },
  {
   "cell_type": "code",
   "execution_count": 3,
   "id": "b8f482d4-3bd8-4851-bbf9-4936774907b4",
   "metadata": {},
   "outputs": [],
   "source": [
    "def read_data(city, start_time, duration):\n",
    "\n",
    "    def process_string(s):\n",
    "        first_part = s.split(':')[0]  \n",
    "        numbers_only = ''.join([ch for ch in first_part if ch.isdigit()])\n",
    "        return numbers_only\n",
    "        \n",
    "    if int(city) == 1:\n",
    "        df = pd.read_csv(\"/home/jovyan/homework2/data/stop_times.csv\", index_col=0)\n",
    "        stops_lausanne_all = pd.read_csv(\"/home/jovyan/homework2/data/stops.csv\", index_col=0)\n",
    "        stops_to_stops = pd.read_csv(\"/home/jovyan/homework2/data/stop_to_stop.csv\", index_col=0)\n",
    "        df.columns = ['trip_id', 'stop_id', 'departure_time', 'arrival_time']\n",
    "        stops_lausanne_all.columns = ['stop_id', 'stop_name','stop_lat','stop_lon']\n",
    "        stops_lausanne_all['stop_id'] = stops_lausanne_all['stop_id'].apply(process_string)\n",
    "        stops_lausanne_all = stops_lausanne_all.groupby(['stop_id', 'stop_name']).max().reset_index()\n",
    "        df['stop_id'] = df['stop_id'].apply(process_string)\n",
    "        stops_to_stops.columns = ['stop_id_a', 'stop_id_b', 'distance']\n",
    "        stops_to_stops['stop_id_a'] = stops_to_stops['stop_id_a'].apply(process_string)\n",
    "        stops_to_stops['stop_id_b'] = stops_to_stops['stop_id_b'].apply(process_string)\n",
    "        stops_to_stops = stops_to_stops[stops_to_stops['stop_id_a'] != stops_to_stops['stop_id_b']]\n",
    "        stops_to_stops = stops_to_stops.groupby(['stop_id_a', 'stop_id_b']).max().reset_index()\n",
    "\n",
    "        # calculate the time in minute\n",
    "        df['departure_time_mins'] = df['departure_time'].apply(time_to_minutes)\n",
    "        df['arrival_time_mins'] = df['arrival_time'].apply(time_to_minutes)\n",
    "        \n",
    "        # df filtered\n",
    "        df_filtered = df[(df['arrival_time_mins'] >= start_time) & (df['arrival_time_mins'] <= start_time+duration)].copy()\n",
    "        df_filtered.sort_values(by=['trip_id', 'arrival_time_mins', 'departure_time_mins'], inplace=True)\n",
    "        df_filtered.reset_index(inplace=True)\n",
    "        df_filtered.head()\n",
    "\n",
    "    return df_filtered, stops_lausanne_all, stops_to_stops\n",
    "        "
   ]
  },
  {
   "cell_type": "code",
   "execution_count": 4,
   "id": "62a4ba62-f722-4bab-9326-ca62eb097f13",
   "metadata": {},
   "outputs": [],
   "source": [
    "def time_to_minutes(time_str):\n",
    "    \"\"\"Converts a time string to minutes in a day.\"\"\"\n",
    "    hours, minutes, seconds = map(int, time_str.split(':'))\n",
    "    return hours * 60 + minutes + seconds / 60\n",
    "\n",
    "def time_to_minutes2(time_str):\n",
    "    \"\"\"Converts a time string to minutes in a day.\"\"\"\n",
    "    hours, minutes= map(int, time_str.split(':'))\n",
    "    return hours * 60 + minutes\n",
    "\n",
    "def minutes_to_hours(minutes):\n",
    "    \"\"\"Converts minutes in a day to a time string.\"\"\"\n",
    "    hours = minutes // 60\n",
    "    remaining_minutes = minutes % 60\n",
    "    if remaining_minutes < 10:\n",
    "        return str(int(hours)) + \":0\" + str(int(remaining_minutes))\n",
    "    else:\n",
    "        return str(int(hours)) + \":\" + str(int(remaining_minutes))"
   ]
  },
  {
   "cell_type": "code",
   "execution_count": 5,
   "id": "946fbc10-1026-4067-9198-26f863f97632",
   "metadata": {},
   "outputs": [],
   "source": [
    "def build_graph(start_time, city, expected_time):\n",
    "\n",
    "    start_time_mins = time_to_minutes2(start_time)\n",
    "    expected_arrival_time_mins = time_to_minutes2(expected_time)\n",
    "    duration = expected_arrival_time_mins - start_time_mins\n",
    "    df_filtered, all_stops, stops_to_stops = read_data(city, start_time_mins, duration)\n",
    "    \n",
    "    G = nx.MultiDiGraph()\n",
    "\n",
    "    # add edges by taking transportation\n",
    "    for _, row in df_filtered.iterrows():\n",
    "        if _ + 1 < len(df_filtered) and df_filtered.loc[_ + 1, 'trip_id'] == row['trip_id']:\n",
    "            next_stop = df_filtered.loc[_ + 1, 'stop_id']\n",
    "            arr_time_next_stop = df_filtered.loc[_ + 1, 'arrival_time_mins']\n",
    "            travel_time = arr_time_next_stop - row['departure_time_mins']\n",
    "\n",
    "            G.add_edge(row['stop_id'], next_stop, weight=travel_time, trip_id=row['trip_id'], \n",
    "                       departure_time_mins=row['departure_time_mins'], \n",
    "                       arrival_time_mins=arr_time_next_stop)\n",
    "\n",
    "    # add edges by only walking \n",
    "    for _, row in stops_to_stops.iterrows():\n",
    "        n1, n2 = row['stop_id_a'], row['stop_id_b']\n",
    "        distance = row['distance']\n",
    "        G.add_edge(n1, n2, weight=round(distance/50), trip_id=\"walking\", walking_time = round(distance/50))            \n",
    "\n",
    "    return G, all_stops"
   ]
  },
  {
   "cell_type": "code",
   "execution_count": 58,
   "id": "acd6a1ee-e085-4297-b2ff-1c737551271f",
   "metadata": {},
   "outputs": [],
   "source": [
    "def dijkstra(G, start_time, departure_id, destination_id):\n",
    "    \n",
    "    start_time_mins = time_to_minutes2(start_time)\n",
    "    min_arrival_time = {node: np.inf for node in G.nodes()}\n",
    "    min_arrival_time[departure_id] = start_time_mins\n",
    "    priority_queue = [(start_time_mins, departure_id)]\n",
    "    predecessor = {node: None for node in G.nodes()}\n",
    "\n",
    "    while priority_queue:\n",
    "        current_time, current_stop = heapq.heappop(priority_queue)\n",
    "\n",
    "        if current_stop == destination_id:\n",
    "            break\n",
    "\n",
    "        for neighbor in G[current_stop]:\n",
    "            for key, edge_attr in G[current_stop][neighbor].items():\n",
    "                trip_id = edge_attr['trip_id']\n",
    "                transfer_time = 2 if trip_id != 'walking' and predecessor[current_stop] and predecessor[current_stop][2] != trip_id else 0\n",
    "                departure_time = edge_attr['departure_time_mins'] if trip_id != 'walking' else current_time\n",
    "                travel_time = edge_attr['arrival_time_mins'] - departure_time if trip_id != 'walking' else edge_attr['walking_time']\n",
    "                total_time = current_time + max(0, departure_time - current_time) + travel_time + transfer_time # current time + wait time + travel time + transfer time\n",
    "\n",
    "                if total_time < min_arrival_time[neighbor] and departure_time >= current_time:\n",
    "                    min_arrival_time[neighbor] = total_time\n",
    "                    predecessor[neighbor] = (current_stop, minutes_to_hours(current_time), trip_id)\n",
    "                    heapq.heappush(priority_queue, (total_time, neighbor))\n",
    "\n",
    "    # Reconstruct the path\n",
    "    path = []\n",
    "    node = destination_id\n",
    "    while node:\n",
    "        if predecessor[node] is None:\n",
    "            break\n",
    "        path.append((node, predecessor[node], min_arrival_time[node]))\n",
    "        node = predecessor[node][0]\n",
    "    path.reverse()\n",
    "\n",
    "    # include the start stop and the edge\n",
    "    if path:\n",
    "        start_node = path[0][1][0]  \n",
    "        start_edge = (start_node, predecessor[start_node], min_arrival_time[node])\n",
    "        path.insert(0, start_edge) \n",
    "\n",
    "    return path, min_arrival_time[destination_id]"
   ]
  },
  {
   "cell_type": "code",
   "execution_count": 59,
   "id": "7911d7b6-1bae-48c4-b3de-bf02ff0f41fe",
   "metadata": {},
   "outputs": [],
   "source": [
    "def yen_ksp(G, start_time, departure_id, destination_id, K=10):\n",
    "    paths = []\n",
    "    path, cost = dijkstra(G, start_time, departure_id, destination_id)\n",
    "    paths.append((path, cost-time_to_minutes2(start_time)))\n",
    "\n",
    "    potential_paths = []\n",
    "\n",
    "    for k in range(1, K):\n",
    "        for i in range(len(paths[k-1][0]) - 1):\n",
    "            spur_node = paths[k-1][0][i][0]\n",
    "            root_path = paths[k-1][0][:i+1]\n",
    "\n",
    "            removed_edges = []\n",
    "            for path in paths:\n",
    "                if path[0][:i+1] == root_path :\n",
    "                    node_from = path[0][i][0]\n",
    "                    node_to = path[0][i+1][0]\n",
    "                    trip_id_path = path[0][i+1][1][2]\n",
    "                    \n",
    "                    if G.has_edge(node_from, node_to):\n",
    "                        for key, edge_attr in G[node_from][node_to].items():\n",
    "                            if edge_attr.get('trip_id') == trip_id_path:\n",
    "                                edge_attr_copy = copy.deepcopy(edge_attr)\n",
    "                                removed_edges.append((node_from, node_to, key, edge_attr_copy))\n",
    "                                G.remove_edge(node_from, node_to, key)\n",
    "                                break\n",
    "\n",
    "            spur_path, spur_cost = dijkstra(G, minutes_to_hours(root_path[-1][-1]), spur_node, destination_id)\n",
    "            total_path = root_path + spur_path[1:]\n",
    "            total_cost = total_path[-1][-1] - total_path[0][-1]\n",
    "\n",
    "            if total_path not in [p[0] for p in paths + potential_paths]:\n",
    "                potential_paths.append((total_path, total_cost))\n",
    "\n",
    "            for node_from, node_to, key, edge_attr in removed_edges:\n",
    "                G.add_edge(node_from, node_to, key=key, **edge_attr)\n",
    "\n",
    "        if not potential_paths:\n",
    "            break\n",
    "\n",
    "        potential_paths.sort(key=lambda x: x[1])\n",
    "        paths.append(potential_paths.pop(0))\n",
    "\n",
    "    return paths"
   ]
  },
  {
   "cell_type": "code",
   "execution_count": 102,
   "id": "95c49d2c-3011-4598-80a9-22c231054ec3",
   "metadata": {},
   "outputs": [],
   "source": [
    "def print_paths(paths, id_to_stop):\n",
    "    for index, (path, cost) in enumerate(paths):\n",
    "        print(f\"Path {index + 1}: Total Cost: {cost} minutes\")\n",
    "        for node, predecessor, time in path:\n",
    "            if predecessor is None:\n",
    "                print(f\"Depart from {id_to_stop[node]}({node}) at {minutes_to_hours(time)}: \")\n",
    "            else:\n",
    "                try:\n",
    "                    print(f\"            {id_to_stop[node]}({node}) at {minutes_to_hours(time)} via {predecessor[2]}\")\n",
    "                except:\n",
    "                    print(f\"                          ({node}) at {minutes_to_hours(time)} via {predecessor[2]}\")\n",
    "        print()"
   ]
  },
  {
   "cell_type": "code",
   "execution_count": 79,
   "id": "d354da80-ac71-4f4a-978a-5b513d09fdb5",
   "metadata": {},
   "outputs": [],
   "source": [
    "start_time = '12:00'\n",
    "city = \"1\"\n",
    "expected_time = \"14:00\"\n",
    "departure = \"Lausanne-Flon, pl. de l'Europe\"\n",
    "destination = \"Lausanne, Bellerive\""
   ]
  },
  {
   "cell_type": "code",
   "execution_count": 62,
   "id": "9f488dcc-e799-417b-9d97-560b64eb339a",
   "metadata": {},
   "outputs": [],
   "source": [
    "G, all_stops = build_graph(start_time, city, expected_time)"
   ]
  },
  {
   "cell_type": "code",
   "execution_count": 87,
   "id": "5d2479e5-6824-47d4-b41c-b5c51a58fcad",
   "metadata": {},
   "outputs": [],
   "source": [
    "id_to_stop = all_stops.set_index('stop_id')['stop_name'].to_dict()\n",
    "stop_to_id = all_stops.set_index('stop_name')['stop_id'].to_dict()"
   ]
  },
  {
   "cell_type": "code",
   "execution_count": 89,
   "id": "90842e5a-34ef-49ab-9b66-51d242813893",
   "metadata": {},
   "outputs": [
    {
     "data": {
      "text/plain": [
       "('8591818', '8591989')"
      ]
     },
     "execution_count": 89,
     "metadata": {},
     "output_type": "execute_result"
    }
   ],
   "source": [
    "departure_id = stop_to_id[departure]\n",
    "destination_id = stop_to_id[destination]\n",
    "(departure_id, destination_id)"
   ]
  },
  {
   "cell_type": "code",
   "execution_count": 81,
   "id": "fd60e8ba-73fc-4f44-bb5c-31b1e687afe2",
   "metadata": {},
   "outputs": [
    {
     "name": "stdout",
     "output_type": "stream",
     "text": [
      "Number of nodes: 504\n",
      "Number of edges: 32645\n"
     ]
    }
   ],
   "source": [
    "print(\"Number of nodes:\", G.number_of_nodes())\n",
    "print(\"Number of edges:\", G.number_of_edges())"
   ]
  },
  {
   "cell_type": "code",
   "execution_count": 82,
   "id": "59fcc03c-6073-4e57-b4bd-679599b0de36",
   "metadata": {},
   "outputs": [],
   "source": [
    "# path, arrival_time = dijkstra(G, start_time, departure_id, destination_id)\n",
    "paths = yen_ksp(G, start_time, departure_id, destination_id)"
   ]
  },
  {
   "cell_type": "code",
   "execution_count": 103,
   "id": "63754cdf-61f6-4480-9f34-268d14b81d4c",
   "metadata": {},
   "outputs": [
    {
     "name": "stdout",
     "output_type": "stream",
     "text": [
      "Path 1: Total Cost: 17.0 minutes\n",
      "Depart from Lausanne-Flon, pl. de l'Europe(8591818) at 12:00: \n",
      "            Lausanne, gare(8592050) at 12:01 via 3216.TA.91-m2-j24-1.4.R\n",
      "                          (8592052) at 12:03 via 3216.TA.91-m2-j24-1.4.R\n",
      "            Lausanne, Délices(8592028) at 12:04 via 3216.TA.91-m2-j24-1.4.R\n",
      "            Lausanne, Jordils(8592061) at 12:05 via 3216.TA.91-m2-j24-1.4.R\n",
      "            Lausanne, Ouchy-Olympique(8592086) at 12:07 via 3216.TA.91-m2-j24-1.4.R\n",
      "            Lausanne, Pêcheurs(8592090) at 12:13 via 353.TA.92-24-G-j24-1.2.R\n",
      "            Lausanne, Bellerive(8591989) at 12:17 via 908.TA.92-2-T-j24-1.10.R\n",
      "\n",
      "Path 2: Total Cost: 13.0 minutes\n",
      "Depart from Lausanne-Flon, pl. de l'Europe(8591818) at 12:00: \n",
      "            Lausanne, gare(8592050) at 12:01 via 3216.TA.91-m2-j24-1.4.R\n",
      "                          (8592052) at 12:03 via 3216.TA.91-m2-j24-1.4.R\n",
      "            Lausanne, Délices(8592028) at 12:04 via 3216.TA.91-m2-j24-1.4.R\n",
      "            Lausanne, Jordils(8592061) at 12:05 via 3216.TA.91-m2-j24-1.4.R\n",
      "            Lausanne, Ouchy-Olympique(8592086) at 12:07 via 3216.TA.91-m2-j24-1.4.R\n",
      "            Lausanne, Pêcheurs(8592090) at 12:11 via 378.TA.92-24-G-j24-1.2.R\n",
      "            Lausanne, Bellerive(8591989) at 12:13 via 378.TA.92-24-G-j24-1.2.R\n",
      "\n",
      "Path 3: Total Cost: 13.0 minutes\n",
      "Depart from Lausanne-Flon, pl. de l'Europe(8591818) at 12:00: \n",
      "            Lausanne, gare(8592050) at 12:01 via 3216.TA.91-m2-j24-1.4.R\n",
      "                          (8592052) at 12:03 via 3216.TA.91-m2-j24-1.4.R\n",
      "            Lausanne, Délices(8592028) at 12:04 via 3216.TA.91-m2-j24-1.4.R\n",
      "            Lausanne, Jordils(8592061) at 12:05 via 3216.TA.91-m2-j24-1.4.R\n",
      "            Lausanne, Ouchy-Olympique(8592086) at 12:07 via 3216.TA.91-m2-j24-1.4.R\n",
      "            Lausanne, Pêcheurs(8592090) at 12:11 via 378.TA.92-24-G-j24-1.2.R\n",
      "            Lausanne, Bellerive(8591989) at 12:13 via 353.TA.92-24-G-j24-1.2.R\n",
      "\n",
      "Path 4: Total Cost: 15.0 minutes\n",
      "Depart from Lausanne-Flon, pl. de l'Europe(8591818) at 12:00: \n",
      "            Lausanne, gare(8592050) at 12:01 via 3216.TA.91-m2-j24-1.4.R\n",
      "            Lausanne, Dapples(8592027) at 12:04 via 1111.TA.92-1-V-j24-1.13.R\n",
      "            Lausanne, Epinettes(8592040) at 12:04 via 1111.TA.92-1-V-j24-1.13.R\n",
      "            Lausanne, jardin botanique(8591985) at 12:06 via 1111.TA.92-1-V-j24-1.13.R\n",
      "            Lausanne, Bellerive(8591989) at 12:15 via walking\n",
      "\n",
      "Path 5: Total Cost: 15.0 minutes\n",
      "Depart from Lausanne-Flon, pl. de l'Europe(8591818) at 12:00: \n",
      "            Lausanne, gare(8592050) at 12:01 via 3216.TA.91-m2-j24-1.4.R\n",
      "                          (8592052) at 12:03 via 3216.TA.91-m2-j24-1.4.R\n",
      "            Lausanne, Délices(8592028) at 12:04 via 3216.TA.91-m2-j24-1.4.R\n",
      "            Lausanne, Jordils(8592061) at 12:05 via 3216.TA.91-m2-j24-1.4.R\n",
      "            Lausanne, Ouchy-Olympique(8592086) at 12:07 via 3216.TA.91-m2-j24-1.4.R\n",
      "            Lausanne, Pêcheurs(8592090) at 12:13 via 353.TA.92-24-G-j24-1.2.R\n",
      "            Lausanne, Bellerive(8591989) at 12:15 via 978.TA.92-2-T-j24-1.10.R\n",
      "\n",
      "Path 6: Total Cost: 15.0 minutes\n",
      "Depart from Lausanne-Flon, pl. de l'Europe(8591818) at 12:00: \n",
      "            Lausanne, gare(8592050) at 12:01 via 3216.TA.91-m2-j24-1.4.R\n",
      "                          (8592052) at 12:03 via 3216.TA.91-m2-j24-1.4.R\n",
      "            Lausanne, Délices(8592028) at 12:04 via 3216.TA.91-m2-j24-1.4.R\n",
      "            Lausanne, Jordils(8592061) at 12:05 via 3216.TA.91-m2-j24-1.4.R\n",
      "            Lausanne, Ouchy-Olympique(8592086) at 12:07 via 3216.TA.91-m2-j24-1.4.R\n",
      "            Lausanne, Pêcheurs(8592090) at 12:13 via 908.TA.92-2-T-j24-1.10.R\n",
      "            Lausanne, Bellerive(8591989) at 12:15 via 908.TA.92-2-T-j24-1.10.R\n",
      "\n",
      "Path 7: Total Cost: 15.0 minutes\n",
      "Depart from Lausanne-Flon, pl. de l'Europe(8591818) at 12:00: \n",
      "            Lausanne, gare(8592050) at 12:01 via 3216.TA.91-m2-j24-1.4.R\n",
      "                          (8592052) at 12:03 via 3216.TA.91-m2-j24-1.4.R\n",
      "            Lausanne, Délices(8592028) at 12:04 via 3216.TA.91-m2-j24-1.4.R\n",
      "            Lausanne, Jordils(8592061) at 12:05 via 3216.TA.91-m2-j24-1.4.R\n",
      "            Lausanne, Ouchy-Olympique(8592086) at 12:07 via 3216.TA.91-m2-j24-1.4.R\n",
      "            Lausanne, Pêcheurs(8592090) at 12:11 via 378.TA.92-24-G-j24-1.2.R\n",
      "            Lausanne, Bellerive(8591989) at 12:15 via 978.TA.92-2-T-j24-1.10.R\n",
      "\n",
      "Path 8: Total Cost: 15.0 minutes\n",
      "Depart from Lausanne-Flon, pl. de l'Europe(8591818) at 12:00: \n",
      "            Lausanne, gare(8592050) at 12:01 via 3216.TA.91-m2-j24-1.4.R\n",
      "            Lausanne, Dapples(8592027) at 12:04 via 1111.TA.92-1-V-j24-1.13.R\n",
      "            Lausanne, Epinettes(8592040) at 12:04 via 1111.TA.92-1-V-j24-1.13.R\n",
      "            Lausanne, jardin botanique(8591985) at 12:06 via 1111.TA.92-1-V-j24-1.13.R\n",
      "            Lausanne, Cèdres(8592005) at 12:07 via 1111.TA.92-1-V-j24-1.13.R\n",
      "            Lausanne, Bellerive(8591989) at 12:15 via walking\n",
      "\n",
      "Path 9: Total Cost: 15.0 minutes\n",
      "Depart from Lausanne-Flon, pl. de l'Europe(8591818) at 12:00: \n",
      "            Lausanne, gare(8592050) at 12:01 via 3216.TA.91-m2-j24-1.4.R\n",
      "                          (8592052) at 12:03 via 3216.TA.91-m2-j24-1.4.R\n",
      "            Lausanne, Délices(8592028) at 12:04 via 3216.TA.91-m2-j24-1.4.R\n",
      "            Lausanne, Jordils(8592061) at 12:05 via 3216.TA.91-m2-j24-1.4.R\n",
      "            Lausanne, Ouchy-Olympique(8592086) at 12:07 via 3216.TA.91-m2-j24-1.4.R\n",
      "            Lausanne, Pêcheurs(8592090) at 12:13 via 978.TA.92-2-T-j24-1.10.R\n",
      "            Lausanne, Bellerive(8591989) at 12:15 via 978.TA.92-2-T-j24-1.10.R\n",
      "\n",
      "Path 10: Total Cost: 15.0 minutes\n",
      "Depart from Lausanne-Flon, pl. de l'Europe(8591818) at 12:00: \n",
      "            Lausanne, gare(8592050) at 12:01 via 3216.TA.91-m2-j24-1.4.R\n",
      "                          (8592052) at 12:03 via 3216.TA.91-m2-j24-1.4.R\n",
      "            Lausanne, Délices(8592028) at 12:04 via 3216.TA.91-m2-j24-1.4.R\n",
      "            Lausanne, Jordils(8592061) at 12:05 via 3216.TA.91-m2-j24-1.4.R\n",
      "            Lausanne, Ouchy-Olympique(8592086) at 12:07 via 3216.TA.91-m2-j24-1.4.R\n",
      "            Lausanne, Pêcheurs(8592090) at 12:13 via 908.TA.92-2-T-j24-1.10.R\n",
      "            Lausanne, Bellerive(8591989) at 12:15 via 978.TA.92-2-T-j24-1.10.R\n",
      "\n"
     ]
    }
   ],
   "source": [
    "print_paths(paths, id_to_stop)"
   ]
  },
  {
   "cell_type": "markdown",
   "id": "0b98734e-bc7d-4160-84ee-1e884f2d52bf",
   "metadata": {},
   "source": [
    "# Interaction and Visualization"
   ]
  },
  {
   "cell_type": "code",
   "execution_count": 76,
   "id": "a90cfaa9-8cc3-43b1-b7d3-260c6639861d",
   "metadata": {},
   "outputs": [],
   "source": [
    "import ipywidgets as widgets\n",
    "from IPython.display import display\n",
    "import plotly.graph_objects as go\n",
    "import plotly.express as px"
   ]
  },
  {
   "cell_type": "code",
   "execution_count": 77,
   "id": "355ead53-e82f-4108-867b-393148fbf201",
   "metadata": {},
   "outputs": [],
   "source": [
    "stops_lausanne_all = pd.read_csv(\"/home/jovyan/homework2/data/stops.csv\", index_col=0)\n",
    "stops_lausanne_all.columns = ['stop_id', 'stop_name','stop_lat','stop_lon']\n",
    "stations = pd.unique(stops_lausanne_all.stop_name).tolist()\n",
    "cities = [\"1\"]\n",
    "time_slots = []\n",
    "for i in range(0,24):\n",
    "    for j in range(0,60):\n",
    "        if j < 10:\n",
    "            time_slots.append(str(i)+\":0\"+str(j))\n",
    "        else:\n",
    "            time_slots.append(str(i)+\":\"+str(j))"
   ]
  },
  {
   "cell_type": "code",
   "execution_count": 106,
   "id": "b2ad65a8-dbf5-4dc0-a61c-4b336dbf7b4c",
   "metadata": {},
   "outputs": [
    {
     "data": {
      "application/vnd.jupyter.widget-view+json": {
       "model_id": "2467b53b1b0e4788943f6447f9644b57",
       "version_major": 2,
       "version_minor": 0
      },
      "text/plain": [
       "Combobox(value='', description='City: ', ensure_option=True, options=('1',), placeholder='City ID')"
      ]
     },
     "metadata": {},
     "output_type": "display_data"
    },
    {
     "data": {
      "application/vnd.jupyter.widget-view+json": {
       "model_id": "8d2f4d9af74e457385ad092497e2d7e4",
       "version_major": 2,
       "version_minor": 0
      },
      "text/plain": [
       "DatePicker(value=None, description='Date:', step=1)"
      ]
     },
     "metadata": {},
     "output_type": "display_data"
    },
    {
     "data": {
      "application/vnd.jupyter.widget-view+json": {
       "model_id": "a91d7a29a986487d977e52418f55ea92",
       "version_major": 2,
       "version_minor": 0
      },
      "text/plain": [
       "Combobox(value='', description='Depart:', ensure_option=True, options=('0:00', '0:01', '0:02', '0:03', '0:04',…"
      ]
     },
     "metadata": {},
     "output_type": "display_data"
    },
    {
     "data": {
      "application/vnd.jupyter.widget-view+json": {
       "model_id": "47e62abc3199440b97cca789ebed69e0",
       "version_major": 2,
       "version_minor": 0
      },
      "text/plain": [
       "Combobox(value='', description='From:', ensure_option=True, options=('Belmont-sur-L., Blessoney', 'Belmont-sur…"
      ]
     },
     "metadata": {},
     "output_type": "display_data"
    },
    {
     "data": {
      "application/vnd.jupyter.widget-view+json": {
       "model_id": "b003a65cd1bd4bfe99486258f1b30d93",
       "version_major": 2,
       "version_minor": 0
      },
      "text/plain": [
       "Combobox(value='', description='To:', ensure_option=True, options=('Belmont-sur-L., Blessoney', 'Belmont-sur-L…"
      ]
     },
     "metadata": {},
     "output_type": "display_data"
    },
    {
     "data": {
      "application/vnd.jupyter.widget-view+json": {
       "model_id": "53eda7d304aa4aa1a6dcc1b841c40e9a",
       "version_major": 2,
       "version_minor": 0
      },
      "text/plain": [
       "Combobox(value='', description='Arrival at: ', ensure_option=True, options=('0:00', '0:01', '0:02', '0:03', '0…"
      ]
     },
     "metadata": {},
     "output_type": "display_data"
    },
    {
     "data": {
      "application/vnd.jupyter.widget-view+json": {
       "model_id": "d226c468b7bc4425a144a56f87ccaf71",
       "version_major": 2,
       "version_minor": 0
      },
      "text/plain": [
       "Button(description='Find Routes', style=ButtonStyle())"
      ]
     },
     "metadata": {},
     "output_type": "display_data"
    },
    {
     "data": {
      "application/vnd.jupyter.widget-view+json": {
       "model_id": "f0c693ca1ddb4aebbcb66bc3d946f58b",
       "version_major": 2,
       "version_minor": 0
      },
      "text/plain": [
       "Output()"
      ]
     },
     "metadata": {},
     "output_type": "display_data"
    }
   ],
   "source": [
    "date_picker = widgets.DatePicker(\n",
    "    description='Date:',\n",
    "    disabled=False\n",
    ")\n",
    "\n",
    "objectID = widgets.Combobox(\n",
    "    placeholder='City ID',\n",
    "    options=cities,\n",
    "    description='City: ',\n",
    "    ensure_option=True,\n",
    "    disabled=False\n",
    ")\n",
    "\n",
    "time_input = widgets.Combobox(\n",
    "    placeholder='Choose Time (HH:MM)',\n",
    "    options=time_slots,  \n",
    "    description='Depart:',\n",
    "    ensure_option=True,\n",
    "    disabled=False\n",
    ")\n",
    "\n",
    "\n",
    "departure_station = widgets.Combobox(\n",
    "    placeholder='Type or select',\n",
    "    options=stations,\n",
    "    description='From:',\n",
    "    ensure_option=True,\n",
    "    disabled=False\n",
    ")\n",
    "\n",
    "destination_station = widgets.Combobox(\n",
    "    placeholder='Type or select',\n",
    "    options=stations,\n",
    "    description='To:',\n",
    "    ensure_option=True,\n",
    "    disabled=False\n",
    ")\n",
    "\n",
    "expected_arrival_time = widgets.Combobox(\n",
    "    placeholder='Choose Time (HH:MM)',\n",
    "    options=time_slots,\n",
    "    description='Arrival at: ',\n",
    "    ensure_option=True,\n",
    "    disabled=False\n",
    ")\n",
    "\n",
    "button = widgets.Button(description=\"Find Routes\")\n",
    "\n",
    "output = widgets.Output()\n",
    "\n",
    "def on_button_clicked(b):\n",
    "    with output:\n",
    "        output.clear_output()\n",
    "\n",
    "        date = date_picker.value\n",
    "        start_time = time_input.value\n",
    "        departure = departure_station.value\n",
    "        destination = destination_station.value\n",
    "        city = objectID.value\n",
    "        expected_time = expected_arrival_time.value\n",
    "\n",
    "        G, all_stops = build_graph(start_time, city, expected_time)\n",
    "        id_to_stop = all_stops.set_index('stop_id')['stop_name'].to_dict()\n",
    "        stop_to_id = all_stops.set_index('stop_name')['stop_id'].to_dict()\n",
    "        departure_id = stop_to_id[departure]\n",
    "        destination_id = stop_to_id[destination]\n",
    "        \n",
    "        paths = yen_ksp(G, start_time, departure_id, destination_id)\n",
    "\n",
    "        print_paths(paths, id_to_stop)\n",
    "\n",
    "        # Add map and routes here\n",
    "        \n",
    "\n",
    "button.on_click(on_button_clicked)\n",
    "\n",
    "display(objectID, date_picker, time_input, departure_station, destination_station, expected_arrival_time, button, output)"
   ]
  },
  {
   "cell_type": "code",
   "execution_count": null,
   "id": "a9ee5704-16ec-429a-bb2d-390998483f7d",
   "metadata": {},
   "outputs": [],
   "source": []
  },
  {
   "cell_type": "code",
   "execution_count": null,
   "id": "a2290b31-7d5d-4e08-a679-1ece2b732e77",
   "metadata": {},
   "outputs": [],
   "source": []
  }
 ],
 "metadata": {
  "kernelspec": {
   "display_name": "Python 3 (ipykernel)",
   "language": "python",
   "name": "python3"
  },
  "language_info": {
   "codemirror_mode": {
    "name": "ipython",
    "version": 3
   },
   "file_extension": ".py",
   "mimetype": "text/x-python",
   "name": "python",
   "nbconvert_exporter": "python",
   "pygments_lexer": "ipython3",
   "version": "3.11.7"
  }
 },
 "nbformat": 4,
 "nbformat_minor": 5
}

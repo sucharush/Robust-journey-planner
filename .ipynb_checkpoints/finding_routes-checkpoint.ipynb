{
 "cells": [
  {
   "cell_type": "markdown",
   "id": "06cf98a4-bc03-4e58-abe8-313acfbd9e89",
   "metadata": {},
   "source": [
    "**Assumptions:**\n",
    "1. Allow short (total max 500m \"As the Crows Flies\") walking distances for transfers between two stops, and assume a walking speed of 50m/1min on a straight line, regardless of obstacles, human-built or natural, such as building, highways, rivers, or lakes.\n",
    "2. Not consider numerous stops listed under names such as 8501117:0:3 and 8501117:0:4 (need modification)\n",
    "3. Not consider to keep trip_id consistent although they are the same path (need modification)\n",
    "4. Not consider stops not recorded in data (istdaten_available is false) (need modification)\n",
    "5. Two hour reachable area (change to definition of approximate boundaries like the 15km area)\n",
    "6. On Monday calender (extend to reasonable hours of the day, and on a typical business day, and assuming a recent schedule.)\n",
    "7. Simple visualization (need more interactive visualization using ipywidgets and also easier for our validation.)"
   ]
  },
  {
   "cell_type": "code",
   "execution_count": 1,
   "id": "08b928e6-c8e1-4b45-90a6-d4bdcaa61354",
   "metadata": {},
   "outputs": [],
   "source": [
    "import pandas as pd\n",
    "import numpy as np\n",
    "import networkx as nx\n",
    "import heapq\n",
    "\n",
    "from util import minutes_to_hours, time_to_minutes"
   ]
  },
  {
   "cell_type": "code",
   "execution_count": 16,
   "id": "d1567365-4121-414b-b60c-623e7f4a5518",
   "metadata": {},
   "outputs": [],
   "source": [
    "def read_data(city, start_time, duration):\n",
    "\n",
    "    def process_string(s):\n",
    "        first_part = s.split(':')[0]  \n",
    "        numbers_only = ''.join([ch for ch in first_part if ch.isdigit()])\n",
    "        return numbers_only\n",
    "        \n",
    "    if int(city) == 1:\n",
    "        df = pd.read_csv(\"/home/jovyan/homework2/data/stop_times.csv\", index_col=0)\n",
    "        stops_lausanne_all = pd.read_csv(\"/home/jovyan/homework2/data/stops.csv\", index_col=0)\n",
    "        stops_to_stops = pd.read_csv(\"/home/jovyan/homework2/data/stop_to_stop.csv\", index_col=0)\n",
    "        df.columns = ['trip_id', 'stop_id', 'departure_time', 'arrival_time']\n",
    "        stops_lausanne_all.columns = ['stop_id', 'stop_name','stop_lat','stop_lon']\n",
    "        stops_lausanne_all['stop_id'] = stops_lausanne_all['stop_id'].apply(process_string)\n",
    "        df['stop_id'] = df['stop_id'].apply(process_string)\n",
    "        stops_to_stops.columns = ['stop_id_a', 'stop_id_b', 'distance']\n",
    "        stops_to_stops['stop_id_a'] = stops_to_stops['stop_id_a'].apply(process_string)\n",
    "        stops_to_stops['stop_id_b'] = stops_to_stops['stop_id_b'].apply(process_string)\n",
    "        stops_to_stops = stops_to_stops.groupby(['stop_id_a', 'stop_id_b']).max().reset_index()\n",
    "\n",
    "        # calculate the time in minute\n",
    "        df['departure_time_mins'] = df['departure_time'].apply(time_to_minutes)\n",
    "        df['arrival_time_mins'] = df['arrival_time'].apply(time_to_minutes)\n",
    "        \n",
    "        # df filtered\n",
    "        df_filtered = df[(df['arrival_time_mins'] >= start_time) & (df['arrival_time_mins'] <= start_time+duration)].copy()\n",
    "        df_filtered.sort_values(by=['trip_id', 'arrival_time_mins', 'departure_time_mins'], inplace=True)\n",
    "        df_filtered.reset_index(inplace=True)\n",
    "        df_filtered.head()\n",
    "\n",
    "    return df_filtered, stops_lausanne_all, stops_to_stops\n",
    "        "
   ]
  },
  {
   "cell_type": "code",
   "execution_count": 3,
   "id": "4d39264b-e042-448c-b74b-8c215d08ce04",
   "metadata": {},
   "outputs": [],
   "source": [
    "def time_to_minutes2(time_str):\n",
    "    \"\"\"Converts a time string to minutes in a day.\"\"\"\n",
    "    hours, minutes= map(int, time_str.split(':'))\n",
    "    return hours * 60 + minutes"
   ]
  },
  {
   "cell_type": "code",
   "execution_count": 4,
   "id": "70be45ee-2c4e-4cae-ba5f-32ef8d203ccd",
   "metadata": {},
   "outputs": [],
   "source": [
    "def build_graph(start_time, city, expected_time):\n",
    "\n",
    "    start_time_mins = time_to_minutes2(start_time)\n",
    "    expected_arrival_time_mins = time_to_minutes2(expected_time)\n",
    "    duration = expected_arrival_time_mins - start_time_mins\n",
    "    df_filtered, all_stops, stops_to_stops = read_data(city, start_time_mins, duration)\n",
    "    \n",
    "    G = nx.MultiDiGraph()\n",
    "\n",
    "    # add edges by taking transportation\n",
    "    for _, row in df_filtered.iterrows():\n",
    "        if _ + 1 < len(df_filtered) and df_filtered.loc[_ + 1, 'trip_id'] == row['trip_id']:\n",
    "            next_stop = df_filtered.loc[_ + 1, 'stop_id']\n",
    "            arr_time_next_stop = df_filtered.loc[_ + 1, 'arrival_time_mins']\n",
    "            travel_time = arr_time_next_stop - row['departure_time_mins']\n",
    "    \n",
    "            try:\n",
    "                distance = stops_to_stops[(stops_to_stops['stop_id_a'] == row['stop_id']) & (stops_to_stops['stop_id_b'] == next_stop)]['distance']\n",
    "            except:\n",
    "                distance = np.inf\n",
    "            \n",
    "            G.add_edge(row['stop_id'], next_stop, weight=travel_time, trip_id=row['trip_id'], \n",
    "                       departure_time_mins=row['departure_time_mins'], \n",
    "                       arrival_time_mins=arr_time_next_stop,\n",
    "                       walking_time = round(distance/50,0))\n",
    "\n",
    "    # add edges by only walking \n",
    "    for _, row in stops_to_stops.iterrows():\n",
    "        n1, n2 = row['stop_id_a'], row['stop_id_b']\n",
    "        if G.has_edge(n1, n2):\n",
    "            distance = row['distance']\n",
    "            G.add_edge(n1, n2, weight=round(distance/50), trip_id=\"walking\", \n",
    "                       departure_time_mins=0, \n",
    "                       arrival_time_mins=np.inf,\n",
    "                       walking_time = round(distance/50))\n",
    "\n",
    "    return G, all_stops"
   ]
  },
  {
   "cell_type": "code",
   "execution_count": 9,
   "id": "cf8367b7-a8ea-4a80-8ea1-c40dbba5fa17",
   "metadata": {},
   "outputs": [],
   "source": [
    "def find_routes(start_time, departure_id):\n",
    "    start_time_mins = time_to_minutes2(start_time)\n",
    "    \n",
    "    # Dictionary to store minimum arrival times for each site\n",
    "    min_arrival_time = {node: np.inf for node in G.nodes()}\n",
    "    min_arrival_time[departure_id] = start_time_mins\n",
    "    \n",
    "    # priority queues, storage (arrival times, stations)\n",
    "    priority_queue = [(start_time_mins, departure_id)]\n",
    "    \n",
    "    # dictionary records the best precursor node to reach each site and the itinerary used\n",
    "    predecessor = {node: None for node in G.nodes()}\n",
    "    \n",
    "    while priority_queue:\n",
    "        current_time, current_stop = heapq.heappop(priority_queue)\n",
    "    \n",
    "        # iterate over all trips from the current station\n",
    "        for neighbor in G[current_stop]:\n",
    "            for key, edge_attr in G[current_stop][neighbor].items():\n",
    "                departure_time = edge_attr['departure_time_mins']\n",
    "                arrival_time = edge_attr['arrival_time_mins']\n",
    "                walking_time = edge_attr['walking_time']\n",
    "                trip_id = edge_attr['trip_id']\n",
    "                if trip_id != 'walking':\n",
    "                    travel_time = arrival_time - departure_time\n",
    "                    wait_time = max(0, departure_time - current_time)\n",
    "                else: \n",
    "                    travel_time = walking_time\n",
    "                    wait_time = 0\n",
    "                total_time = current_time + wait_time + travel_time\n",
    "                \n",
    "                # Update and add stations to the queue only if the newly calculated arrival time is shorter than the known arrival time\n",
    "                if total_time < min_arrival_time[neighbor] and departure_time >= current_time:\n",
    "                    min_arrival_time[neighbor] = total_time\n",
    "                    predecessor[neighbor] = (current_stop, minutes_to_hours(current_time), trip_id)\n",
    "                    heapq.heappush(priority_queue, (total_time, neighbor))\n",
    "\n",
    "    return min_arrival_time, predecessor"
   ]
  },
  {
   "cell_type": "code",
   "execution_count": 10,
   "id": "961b1458-464c-4ad8-b680-ffe3d300f21d",
   "metadata": {},
   "outputs": [],
   "source": [
    "def reconstruct_path(predecessor, all_stops, start, end):\n",
    "    path = []\n",
    "    step = end\n",
    "    while step != start:\n",
    "        if predecessor[step] is None:\n",
    "            return None\n",
    "        try:\n",
    "            stop_name = all_stops[all_stops['stop_id'] == predecessor[step][0]]['stop_name'].values[0]\n",
    "        except:\n",
    "            stop_name = ''\n",
    "        path.append((predecessor[step][0], stop_name, predecessor[step][1], predecessor[step][2])) \n",
    "        step = predecessor[step][0]\n",
    "    path.reverse()\n",
    "    return path"
   ]
  },
  {
   "cell_type": "code",
   "execution_count": 5,
   "id": "50d24bf3-8d45-4e0a-928a-c334cd368d71",
   "metadata": {},
   "outputs": [],
   "source": [
    "start_time = '12:00'\n",
    "city = \"1\"\n",
    "expected_time = \"14:00\"\n",
    "# departure = \"Renens VD\"\n",
    "# departure = \"Lausanne-Flon, pl. de l'Europe\"\n",
    "departure = \"St-Sulpice VD, Parc Scient.\"\n",
    "# # departure_id = \"8591818\"\n",
    "destination = \"Lausanne-Flon, pl. de l'Europe\"\n",
    "# # destination_id = \"8579238:0:D\""
   ]
  },
  {
   "cell_type": "code",
   "execution_count": 6,
   "id": "e2fa03ea-1268-4043-8760-4202c1d3e2bd",
   "metadata": {},
   "outputs": [
    {
     "name": "stderr",
     "output_type": "stream",
     "text": [
      "/tmp/ipykernel_1194/49214663.py:27: SettingWithCopyWarning: \n",
      "A value is trying to be set on a copy of a slice from a DataFrame\n",
      "\n",
      "See the caveats in the documentation: https://pandas.pydata.org/pandas-docs/stable/user_guide/indexing.html#returning-a-view-versus-a-copy\n",
      "  df_filtered.sort_values(by=['trip_id', 'arrival_time_mins', 'departure_time_mins'], inplace=True)\n"
     ]
    }
   ],
   "source": [
    "G, all_stops = build_graph(start_time, city, expected_time)"
   ]
  },
  {
   "cell_type": "code",
   "execution_count": 7,
   "id": "f580a762-a038-4f80-89df-3b09f86a9758",
   "metadata": {},
   "outputs": [],
   "source": [
    "departure_id = pd.unique(all_stops[all_stops.stop_name == departure].stop_id).tolist()[0]\n",
    "destination_id = pd.unique(all_stops[all_stops.stop_name == destination].stop_id).tolist()[0]"
   ]
  },
  {
   "cell_type": "code",
   "execution_count": 8,
   "id": "1c8505f1-e3eb-4b2f-8dd9-b7f0fd3584c1",
   "metadata": {},
   "outputs": [
    {
     "name": "stdout",
     "output_type": "stream",
     "text": [
      "Number of nodes: 501\n",
      "Number of edges: 30539\n"
     ]
    }
   ],
   "source": [
    "print(\"Number of nodes:\", G.number_of_nodes())\n",
    "print(\"Number of edges:\", G.number_of_edges())"
   ]
  },
  {
   "cell_type": "code",
   "execution_count": 11,
   "id": "5c7bebc5-dc5e-49f9-bb3f-053dbc7320af",
   "metadata": {},
   "outputs": [],
   "source": [
    "min_arrival_time, predecessor = find_routes(start_time, departure_id)"
   ]
  },
  {
   "cell_type": "code",
   "execution_count": 12,
   "id": "1bfcebf8-4045-4ae3-9542-4ce6f8cd4848",
   "metadata": {},
   "outputs": [
    {
     "name": "stdout",
     "output_type": "stream",
     "text": [
      "8595223 St-Sulpice VD, Parc Scient. 12:0 159.TA.92-701-j24-1.8.H\n",
      "8591945 Ecublens VD, Champagne 12:4 159.TA.92-701-j24-1.8.H\n",
      "8592227 St-Sulpice VD, Pâqueret 12:4 159.TA.92-701-j24-1.8.H\n",
      "8596053 Ecublens VD, Blévallaire 12:5 159.TA.92-701-j24-1.8.H\n",
      "8591950 Ecublens VD, allée de Dorigny 12:7 159.TA.92-701-j24-1.8.H\n",
      "8501210 Lausanne, Bourdonnette 12:10 342.TA.91-m1-j24-1.3.H\n",
      "8501209 Lausanne, Malley 12:16 342.TA.91-m1-j24-1.3.H\n",
      "8501208 Lausanne, Provence 12:17 342.TA.91-m1-j24-1.3.H\n",
      "8501207 Lausanne, Montelly 12:18 342.TA.91-m1-j24-1.3.H\n",
      "8592133 Lausanne, Vigie 12:20 342.TA.91-m1-j24-1.3.H\n",
      "8591818 Lausanne-Flon, pl. de l'Europe\n"
     ]
    }
   ],
   "source": [
    "path = reconstruct_path(predecessor, all_stops, departure_id, destination_id)\n",
    "# print(\"Path from\", source, \"to\", end, \":\")\n",
    "for e in path:\n",
    "    print(e[0], e[1], e[2], e[3])\n",
    "print(destination_id, all_stops[all_stops['stop_id'] == destination_id]['stop_name'].values[0])"
   ]
  },
  {
   "cell_type": "markdown",
   "id": "5e095107-1c1f-4695-bd73-cad13d78384f",
   "metadata": {},
   "source": [
    "# Interaction and Visualization"
   ]
  },
  {
   "cell_type": "code",
   "execution_count": 13,
   "id": "8518ee3a-fe61-4225-8112-8d3613388fa7",
   "metadata": {},
   "outputs": [],
   "source": [
    "import ipywidgets as widgets\n",
    "from IPython.display import display\n",
    "import plotly.graph_objects as go\n",
    "import plotly.express as px"
   ]
  },
  {
   "cell_type": "code",
   "execution_count": 14,
   "id": "c7a28f6b-5ba7-4243-add6-b221973c72ad",
   "metadata": {},
   "outputs": [],
   "source": [
    "stops_lausanne_all = pd.read_csv(\"/home/jovyan/homework2/data/stops.csv\", index_col=0)\n",
    "stops_lausanne_all.columns = ['stop_id', 'stop_name','stop_lat','stop_lon']\n",
    "stations = pd.unique(stops_lausanne_all.stop_name).tolist()\n",
    "cities = [\"1\"]\n",
    "time_slots = []\n",
    "for i in range(0,24):\n",
    "    for j in range(0,60):\n",
    "        if j < 10:\n",
    "            time_slots.append(str(i)+\":0\"+str(j))\n",
    "        else:\n",
    "            time_slots.append(str(i)+\":\"+str(j))"
   ]
  },
  {
   "cell_type": "code",
   "execution_count": 15,
   "id": "3f6d402f-493a-4d58-81ce-bc68b46844c0",
   "metadata": {},
   "outputs": [
    {
     "data": {
      "application/vnd.jupyter.widget-view+json": {
       "model_id": "4fa406d257114a83a258325ed3e4f27a",
       "version_major": 2,
       "version_minor": 0
      },
      "text/plain": [
       "Combobox(value='', description='City: ', ensure_option=True, options=('1',), placeholder='City ID')"
      ]
     },
     "metadata": {},
     "output_type": "display_data"
    },
    {
     "data": {
      "application/vnd.jupyter.widget-view+json": {
       "model_id": "28bd61e087c94ac493c30e46ed238ee3",
       "version_major": 2,
       "version_minor": 0
      },
      "text/plain": [
       "DatePicker(value=None, description='Date:', step=1)"
      ]
     },
     "metadata": {},
     "output_type": "display_data"
    },
    {
     "data": {
      "application/vnd.jupyter.widget-view+json": {
       "model_id": "3299a85232fd4385acb1fd5c87dc13d0",
       "version_major": 2,
       "version_minor": 0
      },
      "text/plain": [
       "Combobox(value='', description='Depart:', ensure_option=True, options=('0:00', '0:01', '0:02', '0:03', '0:04',…"
      ]
     },
     "metadata": {},
     "output_type": "display_data"
    },
    {
     "data": {
      "application/vnd.jupyter.widget-view+json": {
       "model_id": "13980f5f195241ecb8dd5239f2ee1d62",
       "version_major": 2,
       "version_minor": 0
      },
      "text/plain": [
       "Combobox(value='', description='From:', ensure_option=True, options=('Belmont-sur-L., Blessoney', 'Belmont-sur…"
      ]
     },
     "metadata": {},
     "output_type": "display_data"
    },
    {
     "data": {
      "application/vnd.jupyter.widget-view+json": {
       "model_id": "b8b28db7efdb43709a5bdb67a46b313f",
       "version_major": 2,
       "version_minor": 0
      },
      "text/plain": [
       "Combobox(value='', description='To:', ensure_option=True, options=('Belmont-sur-L., Blessoney', 'Belmont-sur-L…"
      ]
     },
     "metadata": {},
     "output_type": "display_data"
    },
    {
     "data": {
      "application/vnd.jupyter.widget-view+json": {
       "model_id": "e834b5e22f994610a544d49776b81d7d",
       "version_major": 2,
       "version_minor": 0
      },
      "text/plain": [
       "Combobox(value='', description='Arrival at: ', ensure_option=True, options=('0:00', '0:01', '0:02', '0:03', '0…"
      ]
     },
     "metadata": {},
     "output_type": "display_data"
    },
    {
     "data": {
      "application/vnd.jupyter.widget-view+json": {
       "model_id": "9a27d23b9ab34c7490dad73f5ef82b72",
       "version_major": 2,
       "version_minor": 0
      },
      "text/plain": [
       "Button(description='Find Routes', style=ButtonStyle())"
      ]
     },
     "metadata": {},
     "output_type": "display_data"
    },
    {
     "data": {
      "application/vnd.jupyter.widget-view+json": {
       "model_id": "08f807d193e841bfa78adeb76057211c",
       "version_major": 2,
       "version_minor": 0
      },
      "text/plain": [
       "Output()"
      ]
     },
     "metadata": {},
     "output_type": "display_data"
    }
   ],
   "source": [
    "date_picker = widgets.DatePicker(\n",
    "    description='Date:',\n",
    "    disabled=False\n",
    ")\n",
    "\n",
    "objectID = widgets.Combobox(\n",
    "    placeholder='City ID',\n",
    "    options=cities,\n",
    "    description='City: ',\n",
    "    ensure_option=True,\n",
    "    disabled=False\n",
    ")\n",
    "\n",
    "time_input = widgets.Combobox(\n",
    "    placeholder='Choose Time (HH:MM)',\n",
    "    options=time_slots,  \n",
    "    description='Depart:',\n",
    "    ensure_option=True,\n",
    "    disabled=False\n",
    ")\n",
    "\n",
    "\n",
    "departure_station = widgets.Combobox(\n",
    "    placeholder='Type or select',\n",
    "    options=stations,\n",
    "    description='From:',\n",
    "    ensure_option=True,\n",
    "    disabled=False\n",
    ")\n",
    "\n",
    "destination_station = widgets.Combobox(\n",
    "    placeholder='Type or select',\n",
    "    options=stations,\n",
    "    description='To:',\n",
    "    ensure_option=True,\n",
    "    disabled=False\n",
    ")\n",
    "\n",
    "expected_arrival_time = widgets.Combobox(\n",
    "    placeholder='Choose Time (HH:MM)',\n",
    "    options=time_slots,\n",
    "    description='Arrival at: ',\n",
    "    ensure_option=True,\n",
    "    disabled=False\n",
    ")\n",
    "\n",
    "button = widgets.Button(description=\"Find Routes\")\n",
    "\n",
    "output = widgets.Output()\n",
    "\n",
    "def on_button_clicked(b):\n",
    "    with output:\n",
    "        output.clear_output()\n",
    "\n",
    "        date = date_picker.value\n",
    "        start_time = time_input.value\n",
    "        departure = departure_station.value\n",
    "        destination = destination_station.value\n",
    "        city = objectID.value\n",
    "        expected_time = expected_arrival_time.value\n",
    "\n",
    "        G, all_stops = build_graph(start_time, city, expected_time)\n",
    "        departure_id = pd.unique(all_stops[all_stops.stop_name == departure].stop_id).tolist()[0]\n",
    "        destination_id = pd.unique(all_stops[all_stops.stop_name == destination].stop_id).tolist()[0]\n",
    "        \n",
    "        min_arrival_time, predecessor = find_routes(start_time, departure_id)\n",
    "        path = reconstruct_path(predecessor, all_stops, departure_id, destination_id)\n",
    "\n",
    "        # print(\"Path from\", source, \"to\", end, \":\")\n",
    "        for e in path:\n",
    "            print(e[0], e[1], e[2], e[3])\n",
    "        print(destination_id, all_stops[all_stops['stop_id'] == destination_id]['stop_name'].values[0])\n",
    "        \n",
    "        print(\"Searching for routes...\")\n",
    "        print(\"Route: From {} to {} on {} at {}\".format(departure_station.value, destination_station.value, date_picker.value, time_input.value))\n",
    "        # 这里可以加上调用地图显示或者查找路线的函数\n",
    "        \n",
    "\n",
    "button.on_click(on_button_clicked)\n",
    "\n",
    "display(objectID, date_picker, time_input, departure_station, destination_station, expected_arrival_time, button, output)"
   ]
  },
  {
   "cell_type": "code",
   "execution_count": 17,
   "id": "28194359-82bc-435c-8561-f6e8065bf6c0",
   "metadata": {},
   "outputs": [
    {
     "data": {
      "text/html": [
       "<div>\n",
       "<style scoped>\n",
       "    .dataframe tbody tr th:only-of-type {\n",
       "        vertical-align: middle;\n",
       "    }\n",
       "\n",
       "    .dataframe tbody tr th {\n",
       "        vertical-align: top;\n",
       "    }\n",
       "\n",
       "    .dataframe thead th {\n",
       "        text-align: right;\n",
       "    }\n",
       "</style>\n",
       "<table border=\"1\" class=\"dataframe\">\n",
       "  <thead>\n",
       "    <tr style=\"text-align: right;\">\n",
       "      <th></th>\n",
       "      <th>stop_id</th>\n",
       "      <th>stop_name</th>\n",
       "      <th>stop_lat</th>\n",
       "      <th>stop_lon</th>\n",
       "    </tr>\n",
       "  </thead>\n",
       "  <tbody>\n",
       "    <tr>\n",
       "      <th>0</th>\n",
       "      <td>8579258</td>\n",
       "      <td>Belmont-sur-L., Blessoney</td>\n",
       "      <td>46.519512</td>\n",
       "      <td>6.683942</td>\n",
       "    </tr>\n",
       "    <tr>\n",
       "      <th>1</th>\n",
       "      <td>8593798</td>\n",
       "      <td>Belmont-sur-L., Burenoz</td>\n",
       "      <td>46.521194</td>\n",
       "      <td>6.672542</td>\n",
       "    </tr>\n",
       "    <tr>\n",
       "      <th>2</th>\n",
       "      <td>8588436</td>\n",
       "      <td>Belmont-sur-L., Grands Champs</td>\n",
       "      <td>46.522410</td>\n",
       "      <td>6.677294</td>\n",
       "    </tr>\n",
       "    <tr>\n",
       "      <th>3</th>\n",
       "      <td>8593806</td>\n",
       "      <td>Belmont-sur-L., Rouvène</td>\n",
       "      <td>46.521397</td>\n",
       "      <td>6.674779</td>\n",
       "    </tr>\n",
       "    <tr>\n",
       "      <th>4</th>\n",
       "      <td>8579257</td>\n",
       "      <td>Belmont-sur-L., centre</td>\n",
       "      <td>46.519608</td>\n",
       "      <td>6.678444</td>\n",
       "    </tr>\n",
       "    <tr>\n",
       "      <th>...</th>\n",
       "      <td>...</td>\n",
       "      <td>...</td>\n",
       "      <td>...</td>\n",
       "      <td>...</td>\n",
       "    </tr>\n",
       "    <tr>\n",
       "      <th>556</th>\n",
       "      <td>8501118</td>\n",
       "      <td>Renens VD</td>\n",
       "      <td>46.536205</td>\n",
       "      <td>6.580923</td>\n",
       "    </tr>\n",
       "    <tr>\n",
       "      <th>557</th>\n",
       "      <td>8501166</td>\n",
       "      <td>Romanel-sur-Lausanne</td>\n",
       "      <td>46.562470</td>\n",
       "      <td>6.603174</td>\n",
       "    </tr>\n",
       "    <tr>\n",
       "      <th>558</th>\n",
       "      <td>8501166</td>\n",
       "      <td>Romanel-sur-Lausanne</td>\n",
       "      <td>46.562470</td>\n",
       "      <td>6.603174</td>\n",
       "    </tr>\n",
       "    <tr>\n",
       "      <th>559</th>\n",
       "      <td>8501166</td>\n",
       "      <td>Romanel-sur-Lausanne</td>\n",
       "      <td>46.562470</td>\n",
       "      <td>6.603174</td>\n",
       "    </tr>\n",
       "    <tr>\n",
       "      <th>560</th>\n",
       "      <td>8501166</td>\n",
       "      <td>Romanel-sur-Lausanne</td>\n",
       "      <td>46.562470</td>\n",
       "      <td>6.603174</td>\n",
       "    </tr>\n",
       "  </tbody>\n",
       "</table>\n",
       "<p>561 rows × 4 columns</p>\n",
       "</div>"
      ],
      "text/plain": [
       "     stop_id                      stop_name   stop_lat  stop_lon\n",
       "0    8579258      Belmont-sur-L., Blessoney  46.519512  6.683942\n",
       "1    8593798        Belmont-sur-L., Burenoz  46.521194  6.672542\n",
       "2    8588436  Belmont-sur-L., Grands Champs  46.522410  6.677294\n",
       "3    8593806        Belmont-sur-L., Rouvène  46.521397  6.674779\n",
       "4    8579257         Belmont-sur-L., centre  46.519608  6.678444\n",
       "..       ...                            ...        ...       ...\n",
       "556  8501118                      Renens VD  46.536205  6.580923\n",
       "557  8501166           Romanel-sur-Lausanne  46.562470  6.603174\n",
       "558  8501166           Romanel-sur-Lausanne  46.562470  6.603174\n",
       "559  8501166           Romanel-sur-Lausanne  46.562470  6.603174\n",
       "560  8501166           Romanel-sur-Lausanne  46.562470  6.603174\n",
       "\n",
       "[561 rows x 4 columns]"
      ]
     },
     "execution_count": 17,
     "metadata": {},
     "output_type": "execute_result"
    }
   ],
   "source": [
    "all_stops"
   ]
  },
  {
   "cell_type": "code",
   "execution_count": null,
   "id": "c45b08ef-5888-4489-adfe-90d464df49fe",
   "metadata": {},
   "outputs": [],
   "source": []
  }
 ],
 "metadata": {
  "kernelspec": {
   "display_name": "Python 3 (ipykernel)",
   "language": "python",
   "name": "python3"
  },
  "language_info": {
   "codemirror_mode": {
    "name": "ipython",
    "version": 3
   },
   "file_extension": ".py",
   "mimetype": "text/x-python",
   "name": "python",
   "nbconvert_exporter": "python",
   "pygments_lexer": "ipython3",
   "version": "3.11.7"
  }
 },
 "nbformat": 4,
 "nbformat_minor": 5
}

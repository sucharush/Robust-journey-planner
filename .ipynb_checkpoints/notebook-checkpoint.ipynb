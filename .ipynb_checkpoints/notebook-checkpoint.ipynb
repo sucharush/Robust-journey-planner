{
 "cells": [
  {
   "cell_type": "code",
   "execution_count": 28,
   "id": "e1a17e16-c091-4e46-8886-1bd360213d12",
   "metadata": {},
   "outputs": [],
   "source": [
    "import pandas as pd\n",
    "import numpy as np\n",
    "import networkx as nx\n",
    "import copy\n",
    "from src.util import *\n",
    "from src.algorithm import *\n",
    "from src.transport_network import *\n",
    "from validation.graph_test import *"
   ]
  },
  {
   "cell_type": "code",
   "execution_count": 29,
   "id": "796c5c3d-a368-4c3b-b2c8-cbcdae5db1c8",
   "metadata": {},
   "outputs": [],
   "source": [
    "start_time = '12:00'\n",
    "city = \"1\"\n",
    "expected_time = \"14:00\"\n",
    "departure = \"Lausanne-Flon, pl. de l'Europe\"\n",
    "destination = \"Lausanne, Bellerive\""
   ]
  },
  {
   "cell_type": "code",
   "execution_count": 30,
   "id": "55b1dba6-90df-42a7-9068-4184e372db7e",
   "metadata": {},
   "outputs": [],
   "source": [
    "sbb_network = TransportNetwork('data/sbb_timetable_stop_times.parquet', 'data/stop_to_stop.csv', 'data/stops.csv')\n",
    "stops = sbb_network.stops\n",
    "stop_to_stop = sbb_network.stop_to_stop\n",
    "id_to_stop = stops.set_index('stop_id')['stop_name'].to_dict()\n",
    "stop_to_id = stops.set_index('stop_name')['stop_id'].to_dict()"
   ]
  },
  {
   "cell_type": "code",
   "execution_count": 31,
   "id": "1493049d-4d16-4ab2-b69c-7cef882b1555",
   "metadata": {},
   "outputs": [],
   "source": [
    "G = sbb_network.build_graph(start_time, expected_time)"
   ]
  },
  {
   "cell_type": "code",
   "execution_count": 32,
   "id": "dd8f3372-fe55-4517-abf8-0a13390e4a78",
   "metadata": {},
   "outputs": [
    {
     "name": "stdout",
     "output_type": "stream",
     "text": [
      "Graph with 497 nodes passed the sanity check!\n"
     ]
    }
   ],
   "source": [
    "graph_sanity_check(G)"
   ]
  },
  {
   "cell_type": "code",
   "execution_count": 33,
   "id": "885fcf7a-9919-4728-aef0-005762373e1f",
   "metadata": {},
   "outputs": [],
   "source": [
    "departure_id = stop_to_id[departure]\n",
    "destination_id = stop_to_id[destination]"
   ]
  },
  {
   "cell_type": "code",
   "execution_count": 34,
   "id": "0dcbf1b3-e7eb-457e-b6f6-e1cdead58462",
   "metadata": {},
   "outputs": [],
   "source": [
    "paths = yen_ksp(G, start_time, departure_id, destination_id)"
   ]
  },
  {
   "cell_type": "code",
   "execution_count": 35,
   "id": "5a1cfd57-9e6e-485b-90d4-5616b6b76a67",
   "metadata": {
    "scrolled": true
   },
   "outputs": [
    {
     "name": "stdout",
     "output_type": "stream",
     "text": [
      "Path 1: Total Cost: 16.0 minutes\n",
      "Depart from Lausanne-Flon, pl. de l'Europe(8591818) at 12:00: \n",
      "            Lausanne, gare(8592050) at 12:03 via 2260.TA.91-m2-j24-1.4.R\n",
      "                          (8592052) at 12:05 via 2260.TA.91-m2-j24-1.4.R\n",
      "            Lausanne, Délices(8592028) at 12:06 via 2260.TA.91-m2-j24-1.4.R\n",
      "            Lausanne, Jordils(8592061) at 12:07 via 2260.TA.91-m2-j24-1.4.R\n",
      "            Lausanne, Ouchy-Olympique(8592086) at 12:09 via 2260.TA.91-m2-j24-1.4.R\n",
      "                          (8592086-transfer) at 12:11 via transfer\n",
      "            Lausanne, Pêcheurs(8592090) at 12:14 via 681.TA.92-2-T-j24-1.10.R\n",
      "            Lausanne, Bellerive(8591989) at 12:16 via 681.TA.92-2-T-j24-1.10.R\n",
      "\n",
      "Path 2: Total Cost: 16.0 minutes\n",
      "Depart from Lausanne-Flon, pl. de l'Europe(8591818) at 12:00: \n",
      "            Lausanne, gare(8592050) at 12:04 via 3408.TA.91-m2-j24-1.4.R\n",
      "                          (8592052) at 12:06 via 3408.TA.91-m2-j24-1.4.R\n",
      "            Lausanne, Délices(8592028) at 12:07 via 3408.TA.91-m2-j24-1.4.R\n",
      "            Lausanne, Jordils(8592061) at 12:08 via 3408.TA.91-m2-j24-1.4.R\n",
      "            Lausanne, Ouchy-Olympique(8592086) at 12:10 via 3408.TA.91-m2-j24-1.4.R\n",
      "                          (8592086-transfer) at 12:12 via transfer\n",
      "            Lausanne, Pêcheurs(8592090) at 12:14 via 681.TA.92-2-T-j24-1.10.R\n",
      "            Lausanne, Bellerive(8591989) at 12:16 via 681.TA.92-2-T-j24-1.10.R\n",
      "\n",
      "Path 3: Total Cost: 16.0 minutes\n",
      "Depart from Lausanne-Flon, pl. de l'Europe(8591818) at 12:00: \n",
      "            Lausanne, gare(8592050) at 12:04 via 3793.TA.91-m2-j24-1.4.R\n",
      "                          (8592052) at 12:05 via 3793.TA.91-m2-j24-1.4.R\n",
      "            Lausanne, Délices(8592028) at 12:07 via 3793.TA.91-m2-j24-1.4.R\n",
      "            Lausanne, Jordils(8592061) at 12:08 via 3793.TA.91-m2-j24-1.4.R\n",
      "            Lausanne, Ouchy-Olympique(8592086) at 12:10 via 3793.TA.91-m2-j24-1.4.R\n",
      "                          (8592086-transfer) at 12:12 via transfer\n",
      "            Lausanne, Pêcheurs(8592090) at 12:14 via 681.TA.92-2-T-j24-1.10.R\n",
      "            Lausanne, Bellerive(8591989) at 12:16 via 681.TA.92-2-T-j24-1.10.R\n",
      "\n",
      "Path 4: Total Cost: 18.0 minutes\n",
      "Depart from Lausanne-Flon, pl. de l'Europe(8591818) at 12:00: \n",
      "            Lausanne, gare(8592050) at 12:03 via 2260.TA.91-m2-j24-1.4.R\n",
      "                          (8592052) at 12:05 via 2260.TA.91-m2-j24-1.4.R\n",
      "            Lausanne, Délices(8592028) at 12:06 via 2260.TA.91-m2-j24-1.4.R\n",
      "                          (8592028-transfer) at 12:08 via transfer\n",
      "            Lausanne, jardin botanique(8591985) at 12:09 via 699.TA.92-25-E-j24-1.8.R\n",
      "            Lausanne, Bellerive(8591989) at 12:18 via walking\n",
      "\n",
      "Path 5: Total Cost: 18.0 minutes\n",
      "Depart from Lausanne-Flon, pl. de l'Europe(8591818) at 12:00: \n",
      "            Lausanne, gare(8592050) at 12:03 via 2260.TA.91-m2-j24-1.4.R\n",
      "                          (8592052) at 12:05 via 2260.TA.91-m2-j24-1.4.R\n",
      "            Lausanne, Délices(8592028) at 12:06 via 2260.TA.91-m2-j24-1.4.R\n",
      "                          (8592028-transfer) at 12:08 via transfer\n",
      "            Lausanne, jardin botanique(8591985) at 12:09 via 699.TA.92-25-E-j24-1.8.R\n",
      "            Lausanne, Cèdres(8592005) at 12:10 via 699.TA.92-25-E-j24-1.8.R\n",
      "            Lausanne, Bellerive(8591989) at 12:18 via walking\n",
      "\n"
     ]
    }
   ],
   "source": [
    "print_paths(paths, id_to_stop)"
   ]
  },
  {
   "cell_type": "code",
   "execution_count": null,
   "id": "f078519d-0e40-416b-87f3-666e49c2a5c6",
   "metadata": {},
   "outputs": [],
   "source": []
  }
 ],
 "metadata": {
  "kernelspec": {
   "display_name": "Python 3 (ipykernel)",
   "language": "python",
   "name": "python3"
  },
  "language_info": {
   "codemirror_mode": {
    "name": "ipython",
    "version": 3
   },
   "file_extension": ".py",
   "mimetype": "text/x-python",
   "name": "python",
   "nbconvert_exporter": "python",
   "pygments_lexer": "ipython3",
   "version": "3.11.7"
  }
 },
 "nbformat": 4,
 "nbformat_minor": 5
}

{
 "cells": [
  {
   "cell_type": "code",
   "execution_count": 1,
   "id": "91e17cb9-99cf-4dd3-821e-1b1b84a18d91",
   "metadata": {},
   "outputs": [],
   "source": [
    "import pandas as pd\n",
    "import numpy as np\n",
    "import networkx as nx\n",
    "import copy\n",
    "from src.util import *\n",
    "from src.route_planning import *\n",
    "from src.transport_network import *\n",
    "from src.delay_model import *\n",
    "from sanity_test.graph_test import *"
   ]
  },
  {
   "cell_type": "code",
   "execution_count": 2,
   "id": "fe38391d-c633-493c-83f7-8008bc365332",
   "metadata": {},
   "outputs": [],
   "source": [
    "import ipywidgets as widgets\n",
    "from IPython.display import display\n",
    "import plotly.graph_objects as go\n",
    "import plotly.express as px"
   ]
  },
  {
   "cell_type": "code",
   "execution_count": 3,
   "id": "91475471-99f5-4788-82ec-5ea264f4aba9",
   "metadata": {},
   "outputs": [],
   "source": [
    "sbb_network = TransportNetwork('data/sbb_timetable_stop_times.parquet', 'data/stop_to_stop.csv', 'data/stops.csv')\n",
    "stops = sbb_network.stops\n",
    "stop_to_stop = sbb_network.stop_to_stop\n",
    "id_to_stop = stops.set_index('stop_id')['stop_name'].to_dict()\n",
    "stop_to_id = stops.set_index('stop_name')['stop_id'].to_dict()"
   ]
  },
  {
   "cell_type": "code",
   "execution_count": 4,
   "id": "82b5f0d0-f596-43e7-ae9c-df22842ea8e2",
   "metadata": {},
   "outputs": [],
   "source": [
    "stop_info = stops.set_index('stop_id')[['stop_lat', 'stop_lon', 'stop_name']].to_dict('index')"
   ]
  },
  {
   "cell_type": "code",
   "execution_count": 5,
   "id": "f633ce9a-e100-467f-a948-579e645e6b6d",
   "metadata": {},
   "outputs": [],
   "source": [
    "# only one run for one objective id\n",
    "grouped_istdaten = process_istdaten_data(\"data/sbb_real_stop_times.parquet\")"
   ]
  },
  {
   "cell_type": "code",
   "execution_count": 6,
   "id": "a9961a07-f5c7-4c7e-be2b-493fdbf5cfde",
   "metadata": {},
   "outputs": [],
   "source": [
    "def count_transfers(path):\n",
    "    return sum(1 for step in path if step[0].endswith('-transfer'))\n",
    "\n",
    "\n",
    "def calculate_walking_time(path):\n",
    "    walking_time = 0\n",
    "    for node, predecessor, time in path:\n",
    "        if predecessor is not None and predecessor[2] == 'walking':\n",
    "            walking_time += time - time_to_minutes2(predecessor[1])\n",
    "    return int(walking_time)\n",
    "\n",
    "\n",
    "def print_paths(paths, id_to_stop, stop_info, output_widgets, accordion, expected_time):\n",
    "    \n",
    "    sorted_paths = sorted(paths, key=lambda x: (x[1], count_transfers(x[0]), calculate_walking_time(x[0])))\n",
    "    \n",
    "    for i, (output, (path, cost)) in enumerate(zip(output_widgets, sorted_paths)):\n",
    "        with output:\n",
    "            transfers = count_transfers(path)\n",
    "            walking_time = calculate_walking_time(path)\n",
    "            confidence = route_confidence(path, expected_time, grouped_istdaten)\n",
    "            print(f\"Path {i + 1}: Cost: {int(cost)} minutes, Transfers: {transfers}, Walking: {walking_time} minutes, Confidence: {confidence}\")\n",
    "            for node, predecessor, time in path:\n",
    "                if predecessor is None:\n",
    "                    print(f\"Depart from {id_to_stop[node]}({node}) at {minutes_to_hours(time)}: \")\n",
    "                else:\n",
    "                    try:\n",
    "                        transport_mode = predecessor[2]\n",
    "                        if transport_mode not in ['transfer', 'walking']:\n",
    "                            transport_mode = transport_mode.split('-')[1]\n",
    "                        print(f\"            {id_to_stop[node]}({node}) at {minutes_to_hours(time)} via {transport_mode}\")\n",
    "                    except:\n",
    "                        print(f\"            unknown stop({node}) at {minutes_to_hours(time)} via {transport_mode}\")\n",
    "            arrival_node, _, arrival_time = path[-1]\n",
    "            print(f\"Arrival at {id_to_stop[arrival_node]}({arrival_node}) at {minutes_to_hours(arrival_time)}\")\n",
    "            plot_routes([sorted_paths[i]], stop_info)\n",
    "        accordion.set_title(i, f\"Path {i+1}, Cost: {int(cost)} minutes, Transfers: {transfers}, Walking: {walking_time} minutes, Confidence: {confidence}\")\n",
    "\n",
    "\n",
    "def plot_routes(paths, stop_info):\n",
    "    fig = go.Figure()\n",
    "    # Color mapping\n",
    "    trip_colors = {\n",
    "        'walking': '#9CBA35'\n",
    "    }\n",
    "    # Get all unique trip_ids and assign colors\n",
    "    all_trip_ids = {step[1][2] for path, _ in paths for step in path if step[1] is not None and step[1][2] not in ['walking', 'transfer']}\n",
    "    trip_colors.update({trip_id: px.colors.qualitative.Plotly[i % len(px.colors.qualitative.Plotly)] for i, trip_id in enumerate(all_trip_ids)})\n",
    "\n",
    "    for path, cost in paths:\n",
    "        latitudes = []\n",
    "        longitudes = []\n",
    "        hover_texts = []\n",
    "\n",
    "        for idx, (node, predecessor, time) in enumerate(path):\n",
    "            if node.endswith('-transfer'):\n",
    "                if predecessor is not None:\n",
    "                    predecessor_index = len(hover_texts) - 1\n",
    "                    hover_texts[predecessor_index] += \", and then transfer.\"\n",
    "                continue        \n",
    "            try:\n",
    "                coords = stop_info[node]\n",
    "            except KeyError:\n",
    "                prev_node = path[idx][1][0]\n",
    "                next_node = path[idx + 1][0]\n",
    "                try:\n",
    "                    prev_name = stop_info[prev_node]['stop_name']\n",
    "                    flag_p = 0\n",
    "                except KeyError:\n",
    "                    prev_name = prev_node\n",
    "                    flag_p = 1\n",
    "                try:\n",
    "                    next_name = stop_info[next_node]['stop_name']\n",
    "                    flag_n = 0\n",
    "                except KeyError:\n",
    "                    next_name = next_node\n",
    "                    flag_n = 1\n",
    "                print(f\"Stop {node} not found in stop_info. Skipping this stop. Its previous stop: {'missing stop-' + prev_name if flag_p else prev_name}, next stop: {'missing stop-' + next_name if flag_n else next_name}.\")\n",
    "                continue\n",
    "\n",
    "            latitudes.append(coords['stop_lat'])\n",
    "            longitudes.append(coords['stop_lon'])\n",
    "\n",
    "            if predecessor is None:\n",
    "                hover_texts.append(f\"Depart from {coords['stop_name']} at {minutes_to_hours(int(time))}.\")\n",
    "            else:\n",
    "                trip_type = predecessor[2]\n",
    "                hover_texts.append(f\"{coords['stop_name']} at {minutes_to_hours(int(time))} via {trip_type}\")\n",
    "\n",
    "                pred_node = predecessor[0]\n",
    "                if pred_node.endswith('-transfer'):\n",
    "                    pred_node = pred_node.replace('-transfer', '')\n",
    "\n",
    "                # Draw the route lines\n",
    "                try:\n",
    "                    fig.add_trace(go.Scattermapbox(\n",
    "                        mode=\"lines\",\n",
    "                        lat=[stop_info[pred_node]['stop_lat'], coords['stop_lat']],\n",
    "                        lon=[stop_info[pred_node]['stop_lon'], coords['stop_lon']],\n",
    "                        line=dict(color=trip_colors[trip_type], width=3),\n",
    "                        hoverinfo=\"text\",\n",
    "                        text=f\"{stop_info[pred_node]['stop_name']} to {coords['stop_name']} via {trip_type}\",\n",
    "                        showlegend=False\n",
    "                    ))\n",
    "                except KeyError:\n",
    "                    continue;\n",
    "                    \n",
    "        # Draw the stops\n",
    "        for i, (lat, lon, hover_text) in enumerate(zip(latitudes, longitudes, hover_texts)):\n",
    "            if i == 0 or i == len(latitudes) - 1:\n",
    "                marker_color = 'Black'  # Start or end point\n",
    "                marker_symbol = 'circle'  \n",
    "            elif 'transfer' in hover_text:\n",
    "                marker_color = 'red'  # Transfer stop\n",
    "                marker_symbol = 'circle'  \n",
    "            else:\n",
    "                marker_color = 'Blue'  # Intermediate stop\n",
    "                marker_symbol = 'circle'  \n",
    "\n",
    "            fig.add_trace(go.Scattermapbox(\n",
    "                lat=[lat],\n",
    "                lon=[lon],\n",
    "                mode='markers',\n",
    "                showlegend=False,\n",
    "                marker=go.scattermapbox.Marker(size=9, color=marker_color, symbol=marker_symbol),\n",
    "                text=hover_text,\n",
    "                hoverinfo='text'\n",
    "            ))\n",
    "\n",
    "    # Add stop legends\n",
    "    fig.add_trace(go.Scattermapbox(\n",
    "        lat=[None], lon=[None], mode='markers',\n",
    "        marker=go.scattermapbox.Marker(size=9, color='black', symbol='circle'),\n",
    "        showlegend=True,\n",
    "        name='Start/End Station',\n",
    "    ))\n",
    "    fig.add_trace(go.Scattermapbox(\n",
    "        lat=[None], lon=[None], mode='markers',\n",
    "        marker=go.scattermapbox.Marker(size=9, color='blue', symbol='circle'),\n",
    "        showlegend=True,\n",
    "        name='Intermediate Station'\n",
    "    ))\n",
    "    fig.add_trace(go.Scattermapbox(\n",
    "        lat=[None], lon=[None], mode='markers',\n",
    "        marker=go.scattermapbox.Marker(size=9, color='red', symbol='circle'),\n",
    "        showlegend=True,\n",
    "        name='Transfer Station'\n",
    "    ))\n",
    "\n",
    "    # Add trip legends\n",
    "    for trip_type, color in trip_colors.items():\n",
    "        if trip_type not in ['transfer', 'walking']:\n",
    "            trip_type = trip_type.split('-')[1]\n",
    "        fig.add_trace(go.Scattermapbox(\n",
    "            lat=[None], lon=[None], mode='lines',\n",
    "            line=dict(color=color, width=4),\n",
    "            showlegend=True,\n",
    "            name=f\"{trip_type}\",\n",
    "        ))\n",
    "\n",
    "    fig.update_layout(\n",
    "        width=1000,\n",
    "        height=600,\n",
    "        mapbox_style=\"open-street-map\",\n",
    "        mapbox=dict(\n",
    "            center=go.layout.mapbox.Center(\n",
    "                lat=latitudes[0],\n",
    "                lon=longitudes[0]\n",
    "            ),\n",
    "            zoom=12\n",
    "        ),\n",
    "    )\n",
    "\n",
    "    fig.show()\n",
    "\n",
    "\n",
    "def show_paths(paths, id_to_stop, stop_info, expected_time):\n",
    "    # Create five output text areas for each drawer's content\n",
    "    output_widgets = [widgets.Output() for _ in range(len(paths))]\n",
    "\n",
    "    # Create five drawers and set their children to the corresponding output text areas\n",
    "    accordion = widgets.Accordion(children=output_widgets)\n",
    "\n",
    "    # Call the function to display path information\n",
    "    print_paths(paths, id_to_stop, stop_info, output_widgets, accordion, expected_time)\n",
    "\n",
    "    # Display the accordion widget\n",
    "    display(accordion)\n"
   ]
  },
  {
   "cell_type": "code",
   "execution_count": 7,
   "id": "8b7a85f5-29d5-4e8a-a96f-ba6b12a71e73",
   "metadata": {},
   "outputs": [
    {
     "data": {
      "application/vnd.jupyter.widget-view+json": {
       "model_id": "c640191ef0b64cfaa580fd8824fa8fe0",
       "version_major": 2,
       "version_minor": 0
      },
      "text/plain": [
       "Combobox(value='', description='From:', ensure_option=True, options=('Belmont-sur-L., Blessoney', 'Belmont-sur…"
      ]
     },
     "metadata": {},
     "output_type": "display_data"
    },
    {
     "data": {
      "application/vnd.jupyter.widget-view+json": {
       "model_id": "784110a76e214695a7c6df3a466ed249",
       "version_major": 2,
       "version_minor": 0
      },
      "text/plain": [
       "Combobox(value='', description='To:', ensure_option=True, options=('Belmont-sur-L., Blessoney', 'Belmont-sur-L…"
      ]
     },
     "metadata": {},
     "output_type": "display_data"
    },
    {
     "data": {
      "application/vnd.jupyter.widget-view+json": {
       "model_id": "8eaf8dd9daf84b55896c597a39977c53",
       "version_major": 2,
       "version_minor": 0
      },
      "text/plain": [
       "Combobox(value='', description='Depart:', ensure_option=True, options=('00:00', '00:01', '00:02', '00:03', '00…"
      ]
     },
     "metadata": {},
     "output_type": "display_data"
    },
    {
     "data": {
      "application/vnd.jupyter.widget-view+json": {
       "model_id": "6cc1eb0cd3b74513bad61425cc6671d2",
       "version_major": 2,
       "version_minor": 0
      },
      "text/plain": [
       "Combobox(value='', description='Arrival at: ', ensure_option=True, options=('00:00', '00:01', '00:02', '00:03'…"
      ]
     },
     "metadata": {},
     "output_type": "display_data"
    },
    {
     "data": {
      "application/vnd.jupyter.widget-view+json": {
       "model_id": "ffcd4c9255af4c169bd9c0a7bc06502f",
       "version_major": 2,
       "version_minor": 0
      },
      "text/plain": [
       "FloatSlider(value=0.9, continuous_update=False, description='Min Confidence Level:', layout=Layout(width='30%'…"
      ]
     },
     "metadata": {},
     "output_type": "display_data"
    },
    {
     "data": {
      "application/vnd.jupyter.widget-view+json": {
       "model_id": "ea2526751a724a2bb49d932dd0292c95",
       "version_major": 2,
       "version_minor": 0
      },
      "text/plain": [
       "Button(description='Find Routes', style=ButtonStyle())"
      ]
     },
     "metadata": {},
     "output_type": "display_data"
    },
    {
     "data": {
      "application/vnd.jupyter.widget-view+json": {
       "model_id": "3e76626a3a9d448fbfc9dd4bd1778e68",
       "version_major": 2,
       "version_minor": 0
      },
      "text/plain": [
       "Output()"
      ]
     },
     "metadata": {},
     "output_type": "display_data"
    }
   ],
   "source": [
    "# date_picker = widgets.DatePicker(\n",
    "#     description='Date:',\n",
    "#     disabled=False\n",
    "# )\n",
    "\n",
    "# objectID = widgets.Combobox(\n",
    "#     placeholder='City ID',\n",
    "#     options=cities,\n",
    "#     description='City: ',\n",
    "#     ensure_option=True,\n",
    "#     disabled=False\n",
    "# )\n",
    "\n",
    "departure_station = widgets.Combobox(\n",
    "    placeholder='Type or select',\n",
    "    options=stops.stop_name.to_list(),\n",
    "    description='From:',\n",
    "    ensure_option=True,\n",
    "    disabled=False\n",
    ")\n",
    "\n",
    "destination_station = widgets.Combobox(\n",
    "    placeholder='Type or select',\n",
    "    options=stops.stop_name.to_list(),\n",
    "    description='To:',\n",
    "    ensure_option=True,\n",
    "    disabled=False\n",
    ")\n",
    "\n",
    "depart_time = widgets.Combobox(\n",
    "    placeholder='Choose Time (HH:MM)',\n",
    "    options=[f\"{i:02}:{j:02}\" for i in range(24) for j in range(0,60)],  \n",
    "    description='Depart:',\n",
    "    ensure_option=True,\n",
    "    disabled=False\n",
    ")\n",
    "\n",
    "expected_arrival_time = widgets.Combobox(\n",
    "    placeholder='Choose Time (HH:MM)',\n",
    "    options=[f\"{i:02}:{j:02}\" for i in range(24) for j in range(0,60)],\n",
    "    description='Arrival at: ',\n",
    "    ensure_option=True,\n",
    "    disabled=False\n",
    ")\n",
    "\n",
    "min_confidence_level = widgets.FloatSlider(\n",
    "    value=0.9,\n",
    "    min=0,\n",
    "    max=1.0,\n",
    "    step=0.05,\n",
    "    description='Min Confidence Level:',\n",
    "    disabled=False,\n",
    "    continuous_update=False,\n",
    "    orientation='horizontal',\n",
    "    readout=True,\n",
    "    readout_format='.2f',\n",
    "    style={'description_width': 'initial'},\n",
    "    layout={'width': '30%'}\n",
    ")\n",
    "\n",
    "\n",
    "button = widgets.Button(description=\"Find Routes\")\n",
    "\n",
    "output = widgets.Output()\n",
    "\n",
    "def on_button_clicked(b):\n",
    "    with output:\n",
    "        output.clear_output()\n",
    "\n",
    "        start_time = depart_time.value\n",
    "        departure = departure_station.value\n",
    "        destination = destination_station.value\n",
    "        expected_time = expected_arrival_time.value\n",
    "        min_confidence = min_confidence_level.value\n",
    "        \n",
    "        G = sbb_network.build_graph(start_time, expected_time)\n",
    "        departure_id = stop_to_id[departure]\n",
    "        destination_id = stop_to_id[destination]\n",
    "        \n",
    "        paths = yen_ksp(G, start_time, departure_id, destination_id, K=5)\n",
    "\n",
    "        confidence_list = []\n",
    "        for route in paths:\n",
    "            confidence = route_confidence(route[0], expected_time, grouped_istdaten)\n",
    "            confidence_list.append(confidence)\n",
    "        filtered_confidence = [(i, conf) for i, conf in enumerate(confidence_list) if conf >= min_confidence]\n",
    "        filtered_paths = [paths[i] for i, conf in filtered_confidence]        \n",
    "        if len(filtered_paths) == 0:\n",
    "            print('Oops, you cannot make it. Choose a different time or confidence level')\n",
    "        else:\n",
    "            show_paths(filtered_paths, id_to_stop, stop_info, expected_time)\n",
    "\n",
    "button.on_click(on_button_clicked)\n",
    "\n",
    "display(departure_station, destination_station, depart_time, expected_arrival_time, min_confidence_level, button, output)"
   ]
  }
 ],
 "metadata": {
  "kernelspec": {
   "display_name": "Python 3 (ipykernel)",
   "language": "python",
   "name": "python3"
  },
  "language_info": {
   "codemirror_mode": {
    "name": "ipython",
    "version": 3
   },
   "file_extension": ".py",
   "mimetype": "text/x-python",
   "name": "python",
   "nbconvert_exporter": "python",
   "pygments_lexer": "ipython3",
   "version": "3.11.7"
  }
 },
 "nbformat": 4,
 "nbformat_minor": 5
}

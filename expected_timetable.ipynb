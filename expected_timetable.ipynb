{
 "cells": [
  {
   "cell_type": "code",
   "execution_count": 1,
   "id": "196c24d1-304b-4d67-a247-31f36a37fcb4",
   "metadata": {
    "scrolled": true
   },
   "outputs": [
    {
     "data": {
      "text/html": [
       "Current session configs: <tt>{'driverMemory': '1000M', 'executorMemory': '4G', 'executorCores': 4, 'numExecutors': 10, 'conf': {'spark.executorEnv.USERNAME': 'sicheng', 'spark.executorEnv.HADOOP_DEFAULT_FS': 'hdfs://iccluster067.iccluster.epfl.ch:8020'}, 'kind': 'pyspark'}</tt><br>"
      ],
      "text/plain": [
       "<IPython.core.display.HTML object>"
      ]
     },
     "metadata": {},
     "output_type": "display_data"
    },
    {
     "data": {
      "text/html": [
       "<table>\n",
       "<tr><th>ID</th><th>YARN Application ID</th><th>Kind</th><th>State</th><th>Spark UI</th><th>Driver log</th><th>User</th><th>Current session?</th></tr><tr><td>3205</td><td>application_1713270977862_3399</td><td>pyspark</td><td>idle</td><td><a target=\"_blank\" href=\"http://iccluster080.iccluster.epfl.ch:8088/proxy/application_1713270977862_3399/\">Link</a></td><td><a target=\"_blank\" href=\"http://iccluster077.iccluster.epfl.ch:8042/node/containerlogs/container_e06_1713270977862_3399_01_000001/livy\">Link</a></td><td>None</td><td></td></tr><tr><td>3206</td><td>application_1713270977862_3400</td><td>pyspark</td><td>idle</td><td><a target=\"_blank\" href=\"http://iccluster080.iccluster.epfl.ch:8088/proxy/application_1713270977862_3400/\">Link</a></td><td><a target=\"_blank\" href=\"http://iccluster079.iccluster.epfl.ch:8042/node/containerlogs/container_e06_1713270977862_3400_01_000001/livy\">Link</a></td><td>None</td><td></td></tr><tr><td>3207</td><td>application_1713270977862_3401</td><td>pyspark</td><td>idle</td><td><a target=\"_blank\" href=\"http://iccluster080.iccluster.epfl.ch:8088/proxy/application_1713270977862_3401/\">Link</a></td><td><a target=\"_blank\" href=\"http://iccluster076.iccluster.epfl.ch:8042/node/containerlogs/container_e06_1713270977862_3401_01_000001/livy\">Link</a></td><td>None</td><td></td></tr></table>"
      ],
      "text/plain": [
       "<IPython.core.display.HTML object>"
      ]
     },
     "metadata": {},
     "output_type": "display_data"
    }
   ],
   "source": [
    "%%info"
   ]
  },
  {
   "cell_type": "code",
   "execution_count": 2,
   "id": "a3a63335-3ea5-4ca0-92ab-49c28725786a",
   "metadata": {
    "scrolled": true
   },
   "outputs": [
    {
     "name": "stdout",
     "output_type": "stream",
     "text": [
      "Starting Spark application\n"
     ]
    },
    {
     "data": {
      "text/html": [
       "<table>\n",
       "<tr><th>ID</th><th>YARN Application ID</th><th>Kind</th><th>State</th><th>Spark UI</th><th>Driver log</th><th>User</th><th>Current session?</th></tr><tr><td>3208</td><td>application_1713270977862_3402</td><td>pyspark</td><td>idle</td><td><a target=\"_blank\" href=\"http://iccluster080.iccluster.epfl.ch:8088/proxy/application_1713270977862_3402/\">Link</a></td><td><a target=\"_blank\" href=\"http://iccluster079.iccluster.epfl.ch:8042/node/containerlogs/container_e06_1713270977862_3402_01_000001/livy\">Link</a></td><td>None</td><td>✔</td></tr></table>"
      ],
      "text/plain": [
       "<IPython.core.display.HTML object>"
      ]
     },
     "metadata": {},
     "output_type": "display_data"
    },
    {
     "data": {
      "application/vnd.jupyter.widget-view+json": {
       "model_id": "",
       "version_major": 2,
       "version_minor": 0
      },
      "text/plain": [
       "FloatProgress(value=0.0, bar_style='info', description='Progress:', layout=Layout(height='25px', width='50%'),…"
      ]
     },
     "metadata": {},
     "output_type": "display_data"
    },
    {
     "name": "stdout",
     "output_type": "stream",
     "text": [
      "SparkSession available as 'spark'.\n"
     ]
    },
    {
     "data": {
      "application/vnd.jupyter.widget-view+json": {
       "model_id": "",
       "version_major": 2,
       "version_minor": 0
      },
      "text/plain": [
       "FloatProgress(value=0.0, bar_style='info', description='Progress:', layout=Layout(height='25px', width='50%'),…"
      ]
     },
     "metadata": {},
     "output_type": "display_data"
    },
    {
     "name": "stdout",
     "output_type": "stream",
     "text": [
      "remote USER=livy"
     ]
    }
   ],
   "source": [
    "import os\n",
    "print(f\"remote USER={os.getenv('USER',None)}\")"
   ]
  },
  {
   "cell_type": "code",
   "execution_count": 3,
   "id": "67798fc5-0957-40ad-a6b6-ea20ccf2649f",
   "metadata": {},
   "outputs": [
    {
     "data": {
      "application/vnd.jupyter.widget-view+json": {
       "model_id": "",
       "version_major": 2,
       "version_minor": 0
      },
      "text/plain": [
       "FloatProgress(value=0.0, bar_style='info', description='Progress:', layout=Layout(height='25px', width='50%'),…"
      ]
     },
     "metadata": {},
     "output_type": "display_data"
    },
    {
     "name": "stdout",
     "output_type": "stream",
     "text": [
      "remote username=sicheng\n",
      "hadoop_fs=hdfs://iccluster067.iccluster.epfl.ch:8020"
     ]
    }
   ],
   "source": [
    "# (prevent deprecated np.bool error since numpy 1.24, until a new version of pandas/Spark fixes this)\n",
    "import numpy as np\n",
    "np.bool = np.bool_\n",
    "\n",
    "username=spark.conf.get('spark.executorEnv.USERNAME', 'anonymous')\n",
    "hadoop_fs=spark.conf.get('spark.executorEnv.HADOOP_DEFAULT_FS','hdfs://iccluster067.iccluster.epfl.ch:8020')\n",
    "print(f\"remote username={username}\\nhadoop_fs={hadoop_fs}\")"
   ]
  },
  {
   "cell_type": "code",
   "execution_count": 6,
   "id": "33654980-7a76-44da-bed7-1ab90e8fdb12",
   "metadata": {
    "scrolled": true
   },
   "outputs": [
    {
     "data": {
      "application/vnd.jupyter.widget-view+json": {
       "model_id": "",
       "version_major": 2,
       "version_minor": 0
      },
      "text/plain": [
       "FloatProgress(value=0.0, bar_style='info', description='Progress:', layout=Layout(height='25px', width='50%'),…"
      ]
     },
     "metadata": {},
     "output_type": "display_data"
    },
    {
     "name": "stdout",
     "output_type": "stream",
     "text": [
      "+---------+--------------------------------+-----------+\n",
      "|namespace|tableName                       |isTemporary|\n",
      "+---------+--------------------------------+-----------+\n",
      "|sicheng  |sbb_istdaten_latest             |false      |\n",
      "|sicheng  |sbb_istdaten_latest_parquet     |false      |\n",
      "|sicheng  |sbb_csv                         |false      |\n",
      "|sicheng  |sbb_orc_stops                   |false      |\n",
      "|sicheng  |sbb_stops_lausanne              |false      |\n",
      "|sicheng  |geo_shapes                      |false      |\n",
      "|sicheng  |sbb_orc_one_month               |false      |\n",
      "|sicheng  |sbb_stops_lausanne_region       |false      |\n",
      "|sicheng  |sbb_orc_2024_01                 |false      |\n",
      "|sicheng  |sbb_stop_to_stop_lausanne_region|false      |\n",
      "|sicheng  |sbb_orc_calendar                |false      |\n",
      "|sicheng  |sbb_orc_stop_times              |false      |\n",
      "|sicheng  |sbb_stop_times_lausanne_region  |false      |\n",
      "|sicheng  |istdaten_examples               |false      |\n",
      "|sicheng  |timetable                       |false      |\n",
      "|sicheng  |sbb_orc_2023                    |false      |\n",
      "+---------+--------------------------------+-----------+"
     ]
    }
   ],
   "source": [
    "spark.sql(f'SHOW TABLES IN {username}').show(truncate = False)"
   ]
  },
  {
   "cell_type": "code",
   "execution_count": 8,
   "id": "d11c5ec3-68a9-4ccb-8672-acb372cea52f",
   "metadata": {},
   "outputs": [
    {
     "data": {
      "application/vnd.jupyter.widget-view+json": {
       "model_id": "",
       "version_major": 2,
       "version_minor": 0
      },
      "text/plain": [
       "FloatProgress(value=0.0, bar_style='info', description='Progress:', layout=Layout(height='25px', width='50%'),…"
      ]
     },
     "metadata": {},
     "output_type": "display_data"
    }
   ],
   "source": [
    "timetable = spark.read.table(f'{username}.timetable')"
   ]
  },
  {
   "cell_type": "code",
   "execution_count": 9,
   "id": "cc00f4df-9073-41c3-b0f6-8b00a9bfd419",
   "metadata": {},
   "outputs": [
    {
     "data": {
      "application/vnd.jupyter.widget-view+json": {
       "model_id": "",
       "version_major": 2,
       "version_minor": 0
      },
      "text/plain": [
       "FloatProgress(value=0.0, bar_style='info', description='Progress:', layout=Layout(height='25px', width='50%'),…"
      ]
     },
     "metadata": {},
     "output_type": "display_data"
    },
    {
     "name": "stdout",
     "output_type": "stream",
     "text": [
      "+----------------------+-----------+--------------+------------+------+-------+---------+--------+------+--------+------+\n",
      "|trip_id               |stop_id    |departure_time|arrival_time|monday|tuesday|wednesday|thursday|friday|saturday|sunday|\n",
      "+----------------------+-----------+--------------+------------+------+-------+---------+--------+------+--------+------+\n",
      "|1.TA.91-1-M-j24-1.73.H|8501120:0:7|04:50:00      |04:50:00    |FALSE |FALSE  |FALSE    |FALSE   |FALSE |FALSE   |TRUE  |\n",
      "|1.TA.91-1-M-j24-1.73.H|8518452:0:3|04:53:00      |04:53:00    |FALSE |FALSE  |FALSE    |FALSE   |FALSE |FALSE   |TRUE  |\n",
      "|1.TA.91-1-M-j24-1.73.H|8501118:0:1|04:56:00      |04:55:00    |FALSE |FALSE  |FALSE    |FALSE   |FALSE |FALSE   |TRUE  |\n",
      "|1.TA.91-1-M-j24-1.73.H|8501117:0:3|04:58:00      |04:58:00    |FALSE |FALSE  |FALSE    |FALSE   |FALSE |FALSE   |TRUE  |\n",
      "|1.TA.91-2-R-j24-1.1.H |8501120:0:4|05:35:00      |05:35:00    |TRUE  |TRUE   |TRUE     |TRUE    |TRUE  |FALSE   |FALSE |\n",
      "+----------------------+-----------+--------------+------------+------+-------+---------+--------+------+--------+------+\n",
      "only showing top 5 rows"
     ]
    }
   ],
   "source": [
    "timetable.show(5, truncate = False)"
   ]
  },
  {
   "cell_type": "code",
   "execution_count": 34,
   "id": "5266a49a-109d-444a-96dd-7b55198b395e",
   "metadata": {},
   "outputs": [
    {
     "data": {
      "application/vnd.jupyter.widget-view+json": {
       "model_id": "",
       "version_major": 2,
       "version_minor": 0
      },
      "text/plain": [
       "FloatProgress(value=0.0, bar_style='info', description='Progress:', layout=Layout(height='25px', width='50%'),…"
      ]
     },
     "metadata": {},
     "output_type": "display_data"
    }
   ],
   "source": [
    "from pyspark.sql.window import Window\n",
    "import pyspark.sql.functions as F\n",
    "\n",
    "def estimate_delay(departure_time, stop_id_a, stop_id_b = None):\n",
    "\n",
    "    \n",
    "    return 1  \n",
    "\n",
    "window_spec = Window.partitionBy(\"trip_id\").orderBy(\"departure_time\")"
   ]
  },
  {
   "cell_type": "code",
   "execution_count": 68,
   "id": "5f4bdcc2-08c8-49b5-ab2a-4bf43e9def21",
   "metadata": {
    "scrolled": true
   },
   "outputs": [
    {
     "data": {
      "application/vnd.jupyter.widget-view+json": {
       "model_id": "",
       "version_major": 2,
       "version_minor": 0
      },
      "text/plain": [
       "FloatProgress(value=0.0, bar_style='info', description='Progress:', layout=Layout(height='25px', width='50%'),…"
      ]
     },
     "metadata": {},
     "output_type": "display_data"
    }
   ],
   "source": [
    "@F.udf\n",
    "def time_to_seconds(time_str):\n",
    "    \"\"\"Converts a time string to seconds in a day, handling None inputs.\"\"\"\n",
    "    if time_str is None:\n",
    "        return None  # Return None if the input is None\n",
    "    hours, minutes, seconds = map(int, time_str.split(':'))\n",
    "    return hours * 3600 + minutes * 60 + seconds\n",
    "\n",
    "@F.udf\n",
    "def seconds_to_string(seconds):\n",
    "    \"\"\"Converts seconds in a day to a time string, handling None inputs.\"\"\"\n",
    "    if seconds is None:\n",
    "        return None  # Return None if the input is None\n",
    "    hours = seconds // 3600\n",
    "    minutes = (seconds % 3600) // 60\n",
    "    seconds = seconds % 60\n",
    "    return f\"{hours:02d}:{minutes:02d}:{seconds:02d}\"\n",
    "\n",
    "@F.udf\n",
    "def estimate_delay(departure_time, stop_id_a, stop_id_b = None):  \n",
    "    \n",
    "    # ----------TODO---------\n",
    "    # estimated delay minutes\n",
    "    # -----------------------  \n",
    "    \n",
    "    return 0.5"
   ]
  },
  {
   "cell_type": "code",
   "execution_count": 66,
   "id": "0ff24ecb-a26c-4b43-9e04-1feed8c190f8",
   "metadata": {},
   "outputs": [
    {
     "data": {
      "application/vnd.jupyter.widget-view+json": {
       "model_id": "",
       "version_major": 2,
       "version_minor": 0
      },
      "text/plain": [
       "FloatProgress(value=0.0, bar_style='info', description='Progress:', layout=Layout(height='25px', width='50%'),…"
      ]
     },
     "metadata": {},
     "output_type": "display_data"
    }
   ],
   "source": [
    "def process_timetable(timetable: DataFrame, remove_terminal_stops = False) -> DataFrame:\n",
    "    \"\"\"\n",
    "    Processes the timetable data to include next stop ID, next stop arrival time,\n",
    "    and expected next stop arrival time. Optionally removes rows where the next stop\n",
    "    arrival time is null.\n",
    "\n",
    "    \"\"\"\n",
    "    # Set window for each trip_id with ascending order on departure_time\n",
    "    window_spec = Window.partitionBy(\"trip_id\").orderBy(\"departure_time\")\n",
    "\n",
    "    # Compute next stop ID and next stop arrival time\n",
    "    timetable_with_next_stop = timetable.withColumn(\n",
    "        \"next_stop_id\",\n",
    "        F.lead(\"stop_id\", 1).over(window_spec)\n",
    "    ).withColumn(\n",
    "        \"next_stop_arrival_time\",\n",
    "        F.lead(\"arrival_time\", 1).over(window_spec)\n",
    "    )\n",
    "\n",
    "    # Compute expected next stop arrival time\n",
    "    timetable_with_expected_arrival = timetable_with_next_stop.withColumn(\n",
    "        \"expected_next_stop_arrival_time\",\n",
    "        F.when(\n",
    "            F.col(\"next_stop_arrival_time\").isNotNull(),\n",
    "            seconds_to_string(\n",
    "                (time_to_seconds(\"next_stop_arrival_time\") + \n",
    "                 (60 * estimate_delay(F.col(\"departure_time\"), F.col(\"stop_id\"), F.col(\"next_stop_id\")))).cast(\"integer\")\n",
    "            )\n",
    "        )\n",
    "    )\n",
    "\n",
    "    # Optionally remove rows where the next stop arrival time is null\n",
    "    if remove_terminal_stops:\n",
    "        timetable_with_expected_arrival = timetable_with_expected_arrival.filter(\n",
    "            F.col(\"next_stop_arrival_time\").isNotNull()\n",
    "        )\n",
    "\n",
    "    return timetable_with_expected_arrival"
   ]
  },
  {
   "cell_type": "code",
   "execution_count": 69,
   "id": "07e059ba-077d-4ef3-a52e-74aaf6c71586",
   "metadata": {},
   "outputs": [
    {
     "data": {
      "application/vnd.jupyter.widget-view+json": {
       "model_id": "",
       "version_major": 2,
       "version_minor": 0
      },
      "text/plain": [
       "FloatProgress(value=0.0, bar_style='info', description='Progress:', layout=Layout(height='25px', width='50%'),…"
      ]
     },
     "metadata": {},
     "output_type": "display_data"
    },
    {
     "name": "stdout",
     "output_type": "stream",
     "text": [
      "+----------------------+-----------+--------------+------------+------------+----------------------+-------------------------------+\n",
      "|trip_id               |stop_id    |departure_time|arrival_time|next_stop_id|next_stop_arrival_time|expected_next_stop_arrival_time|\n",
      "+----------------------+-----------+--------------+------------+------------+----------------------+-------------------------------+\n",
      "|1.TA.91-2E-Y-j24-1.1.H|8501120:0:6|19:45:00      |19:45:00    |null        |null                  |null                           |\n",
      "|1.TA.91-9-K-j24-1.1.H |8501120:0:4|25:07:00      |25:07:00    |null        |null                  |null                           |\n",
      "|1.TA.91-DA-Y-j24-1.2.H|8501118:0:5|05:29:00      |05:28:00    |8501120:0:3 |05:35:00              |05:35:30                       |\n",
      "|1.TA.91-DA-Y-j24-1.2.H|8501120:0:3|05:47:00      |05:35:00    |null        |null                  |null                           |\n",
      "|1.TA.91-FH-Y-j24-1.1.H|8504010:0:2|23:57:00      |23:57:00    |8504000:0:1 |23:59:00              |23:59:30                       |\n",
      "|1.TA.91-FH-Y-j24-1.1.H|8504000:0:1|23:59:00      |23:59:00    |8501120:0:7 |24:03:00              |24:03:30                       |\n",
      "|1.TA.91-FH-Y-j24-1.1.H|8501120:0:7|24:03:00      |24:03:00    |null        |null                  |null                           |\n",
      "|1.TA.92-17-D-j24-1.1.H|8591818    |24:52:00      |24:52:00    |8592098     |24:53:00              |24:53:30                       |\n",
      "|1.TA.92-17-D-j24-1.1.H|8592098    |24:53:00      |24:53:00    |8592041     |24:54:00              |24:54:30                       |\n",
      "|1.TA.92-17-D-j24-1.1.H|8592041    |24:54:00      |24:54:00    |8592022     |24:56:00              |24:56:30                       |\n",
      "+----------------------+-----------+--------------+------------+------------+----------------------+-------------------------------+\n",
      "only showing top 10 rows"
     ]
    }
   ],
   "source": [
    "# Example\n",
    "process_timetable(timetable).select(\n",
    "    \"trip_id\", \"stop_id\", \"departure_time\", \"arrival_time\", \"next_stop_id\",\n",
    "    \"next_stop_arrival_time\", \"expected_next_stop_arrival_time\"\n",
    ").show(10, truncate = False)"
   ]
  },
  {
   "cell_type": "code",
   "execution_count": null,
   "id": "f592b2ff-af6d-4e64-8716-58f639193536",
   "metadata": {},
   "outputs": [],
   "source": []
  },
  {
   "cell_type": "code",
   "execution_count": null,
   "id": "d852123f-ef67-428f-94d8-875284c9480e",
   "metadata": {},
   "outputs": [],
   "source": []
  },
  {
   "cell_type": "code",
   "execution_count": null,
   "id": "31fccd89-3f9d-41ef-90ba-d3bdc06004eb",
   "metadata": {},
   "outputs": [],
   "source": []
  },
  {
   "cell_type": "code",
   "execution_count": null,
   "id": "9dca7c62-199d-4e1d-9a3c-98154fc38f3d",
   "metadata": {},
   "outputs": [],
   "source": []
  },
  {
   "cell_type": "code",
   "execution_count": null,
   "id": "1e2512ef-a051-4766-b5cf-61e1e8ac97b8",
   "metadata": {},
   "outputs": [],
   "source": []
  },
  {
   "cell_type": "code",
   "execution_count": null,
   "id": "18e861fc-0ed7-42b6-8cc1-0441284842d2",
   "metadata": {},
   "outputs": [],
   "source": []
  },
  {
   "cell_type": "code",
   "execution_count": null,
   "id": "f07cf7df-3eac-4e2e-bbf8-6deab0d8c42a",
   "metadata": {},
   "outputs": [],
   "source": []
  },
  {
   "cell_type": "code",
   "execution_count": null,
   "id": "0701b31b-2cb9-47e1-88a8-e8e720530add",
   "metadata": {},
   "outputs": [],
   "source": []
  },
  {
   "cell_type": "code",
   "execution_count": null,
   "id": "431913dd-4f1d-4726-810b-069da793ad2d",
   "metadata": {},
   "outputs": [],
   "source": []
  },
  {
   "cell_type": "code",
   "execution_count": null,
   "id": "00e4a200-2c36-4f67-ac37-09f8a4d8efa6",
   "metadata": {},
   "outputs": [],
   "source": []
  },
  {
   "cell_type": "code",
   "execution_count": null,
   "id": "7c0a42ec-8343-4705-a499-024ffecba907",
   "metadata": {},
   "outputs": [],
   "source": []
  }
 ],
 "metadata": {
  "kernelspec": {
   "display_name": "PySpark",
   "language": "python",
   "name": "pysparkkernel"
  },
  "language_info": {
   "codemirror_mode": {
    "name": "python",
    "version": 3
   },
   "file_extension": ".py",
   "mimetype": "text/x-python",
   "name": "pyspark",
   "pygments_lexer": "python3"
  }
 },
 "nbformat": 4,
 "nbformat_minor": 5
}

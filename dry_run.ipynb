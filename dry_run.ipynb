{
 "cells": [
  {
   "cell_type": "code",
   "execution_count": 1,
   "id": "e1a17e16-c091-4e46-8886-1bd360213d12",
   "metadata": {},
   "outputs": [],
   "source": [
    "import pandas as pd\n",
    "import numpy as np\n",
    "import networkx as nx\n",
    "import copy\n",
    "from src.util import *\n",
    "from src.route_planning import *\n",
    "from src.transport_network import *\n",
    "from src.delay_model import *\n",
    "from sanity_test.graph_test import *"
   ]
  },
  {
   "cell_type": "code",
   "execution_count": 2,
   "id": "796c5c3d-a368-4c3b-b2c8-cbcdae5db1c8",
   "metadata": {},
   "outputs": [],
   "source": [
    "start_time = '12:40'\n",
    "expected_time = \"13:30\"\n",
    "departure = \"Ecublens VD, EPFL\"\n",
    "destination = \"Lausanne, Bellerive\""
   ]
  },
  {
   "cell_type": "code",
   "execution_count": 3,
   "id": "55b1dba6-90df-42a7-9068-4184e372db7e",
   "metadata": {},
   "outputs": [],
   "source": [
    "sbb_network = TransportNetwork('data/sbb_timetable_stop_times.parquet', 'data/stop_to_stop.csv', 'data/stops.csv')\n",
    "stops = sbb_network.stops\n",
    "stop_to_stop = sbb_network.stop_to_stop\n",
    "id_to_stop = stops.set_index('stop_id')['stop_name'].to_dict()\n",
    "stop_to_id = stops.set_index('stop_name')['stop_id'].to_dict()"
   ]
  },
  {
   "cell_type": "code",
   "execution_count": 4,
   "id": "1493049d-4d16-4ab2-b69c-7cef882b1555",
   "metadata": {},
   "outputs": [],
   "source": [
    "G = sbb_network.build_graph(start_time, expected_time)"
   ]
  },
  {
   "cell_type": "code",
   "execution_count": 5,
   "id": "dd8f3372-fe55-4517-abf8-0a13390e4a78",
   "metadata": {},
   "outputs": [
    {
     "name": "stdout",
     "output_type": "stream",
     "text": [
      "Graph with 503 nodes passed the sanity check!\n"
     ]
    }
   ],
   "source": [
    "graph_sanity_check(G)"
   ]
  },
  {
   "cell_type": "code",
   "execution_count": 6,
   "id": "885fcf7a-9919-4728-aef0-005762373e1f",
   "metadata": {},
   "outputs": [],
   "source": [
    "departure_id = stop_to_id[departure]\n",
    "destination_id = stop_to_id[destination]"
   ]
  },
  {
   "cell_type": "code",
   "execution_count": 7,
   "id": "0dcbf1b3-e7eb-457e-b6f6-e1cdead58462",
   "metadata": {},
   "outputs": [],
   "source": [
    "paths = yen_ksp(G, start_time, departure_id, destination_id, K=5)"
   ]
  },
  {
   "cell_type": "code",
   "execution_count": 14,
   "id": "7c0068f4-8b32-4181-90a9-38285b1ba30e",
   "metadata": {},
   "outputs": [],
   "source": [
    "grouped_istdaten = process_istdaten_data(\"data/sbb_real_stop_times.parquet\")"
   ]
  },
  {
   "cell_type": "code",
   "execution_count": 16,
   "id": "dd92c409-d059-4768-9197-783073303f72",
   "metadata": {},
   "outputs": [],
   "source": [
    "route, time = paths[3]"
   ]
  },
  {
   "cell_type": "code",
   "execution_count": 20,
   "id": "c55b43d8-4734-4f22-b702-ec24631426f6",
   "metadata": {},
   "outputs": [],
   "source": [
    "confidence = route_confidence(route, expected_time, grouped_istdaten)"
   ]
  },
  {
   "cell_type": "code",
   "execution_count": 21,
   "id": "98d46f85-254b-47ea-b988-7bd75c6c63b3",
   "metadata": {},
   "outputs": [
    {
     "data": {
      "text/plain": [
       "0.6878233993160886"
      ]
     },
     "execution_count": 21,
     "metadata": {},
     "output_type": "execute_result"
    }
   ],
   "source": [
    "confidence"
   ]
  },
  {
   "cell_type": "code",
   "execution_count": null,
   "id": "d3f1d30a-408e-4098-933e-811057f4189c",
   "metadata": {},
   "outputs": [],
   "source": []
  }
 ],
 "metadata": {
  "kernelspec": {
   "display_name": "Python 3 (ipykernel)",
   "language": "python",
   "name": "python3"
  },
  "language_info": {
   "codemirror_mode": {
    "name": "ipython",
    "version": 3
   },
   "file_extension": ".py",
   "mimetype": "text/x-python",
   "name": "python",
   "nbconvert_exporter": "python",
   "pygments_lexer": "ipython3",
   "version": "3.11.7"
  }
 },
 "nbformat": 4,
 "nbformat_minor": 5
}

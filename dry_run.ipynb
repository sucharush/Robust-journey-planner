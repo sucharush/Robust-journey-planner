{
 "cells": [
  {
   "cell_type": "code",
   "execution_count": 1,
   "id": "e1a17e16-c091-4e46-8886-1bd360213d12",
   "metadata": {},
   "outputs": [],
   "source": [
    "import pandas as pd\n",
    "import numpy as np\n",
    "import networkx as nx\n",
    "import copy\n",
    "from src.util import *\n",
    "from src.algorithm import *\n",
    "from src.transport_network import *\n",
    "from sanity_test.graph_test import *"
   ]
  },
  {
   "cell_type": "code",
   "execution_count": 22,
   "id": "796c5c3d-a368-4c3b-b2c8-cbcdae5db1c8",
   "metadata": {},
   "outputs": [],
   "source": [
    "start_time = '12:40'\n",
    "expected_time = \"13:30\"\n",
    "departure = \"Ecublens VD, EPFL\"\n",
    "destination = \"Lausanne, Bellerive\""
   ]
  },
  {
   "cell_type": "code",
   "execution_count": 23,
   "id": "55b1dba6-90df-42a7-9068-4184e372db7e",
   "metadata": {},
   "outputs": [],
   "source": [
    "sbb_network = TransportNetwork('data/sbb_timetable_stop_times.parquet', 'data/stop_to_stop.csv', 'data/stops.csv')\n",
    "stops = sbb_network.stops\n",
    "stop_to_stop = sbb_network.stop_to_stop\n",
    "id_to_stop = stops.set_index('stop_id')['stop_name'].to_dict()\n",
    "stop_to_id = stops.set_index('stop_name')['stop_id'].to_dict()"
   ]
  },
  {
   "cell_type": "code",
   "execution_count": 24,
   "id": "1493049d-4d16-4ab2-b69c-7cef882b1555",
   "metadata": {},
   "outputs": [],
   "source": [
    "G = sbb_network.build_graph(start_time, expected_time)"
   ]
  },
  {
   "cell_type": "code",
   "execution_count": 25,
   "id": "dd8f3372-fe55-4517-abf8-0a13390e4a78",
   "metadata": {},
   "outputs": [
    {
     "name": "stdout",
     "output_type": "stream",
     "text": [
      "Graph with 503 nodes passed the sanity check!\n"
     ]
    }
   ],
   "source": [
    "graph_sanity_check(G)"
   ]
  },
  {
   "cell_type": "code",
   "execution_count": 26,
   "id": "885fcf7a-9919-4728-aef0-005762373e1f",
   "metadata": {},
   "outputs": [],
   "source": [
    "departure_id = stop_to_id[departure]\n",
    "destination_id = stop_to_id[destination]"
   ]
  },
  {
   "cell_type": "code",
   "execution_count": 27,
   "id": "0dcbf1b3-e7eb-457e-b6f6-e1cdead58462",
   "metadata": {},
   "outputs": [],
   "source": [
    "paths = yen_ksp(G, start_time, departure_id, destination_id, K=5)"
   ]
  },
  {
   "cell_type": "code",
   "execution_count": 30,
   "id": "dd92c409-d059-4768-9197-783073303f72",
   "metadata": {},
   "outputs": [
    {
     "data": {
      "text/plain": [
       "([('8501214', None, 760),\n",
       "  ('8501213', ('8501214', '12:40', '252.TA.91-m1-j24-1.3.H', '12:47'), 768.0),\n",
       "  ('8501212', ('8501213', '12:48', '252.TA.91-m1-j24-1.3.H', '12:48'), 769.0),\n",
       "  ('8501211', ('8501212', '12:49', '252.TA.91-m1-j24-1.3.H', '12:49'), 770.0),\n",
       "  ('8595937', ('8501211', '12:50', 'walking', '12:50'), 777.0),\n",
       "  ('8595937-transfer', ('8595937', '12:57', 'transfer', '12:59'), 779.0),\n",
       "  ('8595939',\n",
       "   ('8595937-transfer', '12:59', '116.TA.92-24-G-j24-1.1.H', '12:59'),\n",
       "   780.0),\n",
       "  ('8595939-transfer', ('8595939', '13:00', 'transfer', '13:02'), 782),\n",
       "  ('8595934',\n",
       "   ('8595939-transfer', '13:02', '212.TA.92-24-G-j24-1.1.H', '13:02'),\n",
       "   784.0),\n",
       "  ('8595935',\n",
       "   ('8595934', '13:04', '212.TA.92-24-G-j24-1.1.H', '13:04'),\n",
       "   785.0),\n",
       "  ('8595938',\n",
       "   ('8595935', '13:05', '212.TA.92-24-G-j24-1.1.H', '13:05'),\n",
       "   786.0),\n",
       "  ('8592121',\n",
       "   ('8595938', '13:06', '212.TA.92-24-G-j24-1.1.H', '13:06'),\n",
       "   787.0),\n",
       "  ('8591989',\n",
       "   ('8592121', '13:07', '212.TA.92-24-G-j24-1.1.H', '13:07'),\n",
       "   789.0)],\n",
       " 22.0)"
      ]
     },
     "execution_count": 30,
     "metadata": {},
     "output_type": "execute_result"
    }
   ],
   "source": [
    "paths[4]"
   ]
  },
  {
   "cell_type": "code",
   "execution_count": null,
   "id": "c55b43d8-4734-4f22-b702-ec24631426f6",
   "metadata": {},
   "outputs": [],
   "source": []
  }
 ],
 "metadata": {
  "kernelspec": {
   "display_name": "Python 3 (ipykernel)",
   "language": "python",
   "name": "python3"
  },
  "language_info": {
   "codemirror_mode": {
    "name": "ipython",
    "version": 3
   },
   "file_extension": ".py",
   "mimetype": "text/x-python",
   "name": "python",
   "nbconvert_exporter": "python",
   "pygments_lexer": "ipython3",
   "version": "3.11.7"
  }
 },
 "nbformat": 4,
 "nbformat_minor": 5
}

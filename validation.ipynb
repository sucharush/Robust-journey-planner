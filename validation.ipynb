{
 "cells": [
  {
   "cell_type": "code",
   "execution_count": 1,
   "id": "454a5210-714d-4268-a2f9-0bbe98255715",
   "metadata": {},
   "outputs": [],
   "source": [
    "import pandas as pd\n",
    "import numpy as np\n",
    "import networkx as nx\n",
    "import copy\n",
    "import random\n",
    "from src.util import *\n",
    "from src.algorithm import *\n",
    "from src.transport_network import *\n",
    "from sanity_test.graph_test import *\n",
    "from sanity_test.path_test import *"
   ]
  },
  {
   "cell_type": "markdown",
   "id": "23d03a37-dd32-41ff-8aa0-4abfe717bb4c",
   "metadata": {},
   "source": [
    "## Generating Test Paths\n",
    "\n",
    "We will define a function `generate_paths_for_tests` to generate test paths. This function includes random tests during peak times and boundary tests in the Lausanne area. We will use a seed to ensure reproducibility.\n",
    "\n",
    "1. **Peak Time Random Tests**\n",
    "- Randomly sample pairs of stops and generate paths for them during peak travel times (e.g., 10:00 - 12:00).\n",
    "\n",
    "2. **Boundary Time Tests in Lausanne Area**\n",
    "- Test paths between stops within the Lausanne area during late night and early morning hours (e.g., 23:00 - 01:00 and 05:30 - 07:30).\n",
    "\n",
    "Additionally, `graph_sanity_check` is applied every time a new graph is built to perform the following sanity checks on the graph:\n",
    "1. **No Zero Cycles**: Ensure there are no cycles with zero total weight.\n",
    "2. **Edge Weight >= 0**: All edges should have non-negative weights (travel time).\n",
    "3. **Walking Weight > 0**: Ensure that walking weights are positive."
   ]
  },
  {
   "cell_type": "code",
   "execution_count": 2,
   "id": "97ad3353-93b3-4a5f-83e3-9df83087ea11",
   "metadata": {},
   "outputs": [],
   "source": [
    "def generate_paths_for_tests(seed=42):\n",
    "    if seed is not None:\n",
    "        random.seed(seed)\n",
    "\n",
    "    sbb_network = TransportNetwork('data/sbb_timetable_stop_times.parquet', 'data/stop_to_stop.csv', 'data/stops.csv')\n",
    "    stops = sbb_network.stops\n",
    "    stop_to_stop = sbb_network.stop_to_stop\n",
    "    id_to_stop = stops.set_index('stop_id')['stop_name'].to_dict()\n",
    "    stop_to_id = stops.set_index('stop_name')['stop_id'].to_dict()\n",
    "\n",
    "    # Peak hours for random test\n",
    "    peak_time = ('10:00', '12:00')  \n",
    "    \n",
    "    # late night and early morning for boundary test\n",
    "    boundary_times = [('23:00', '01:00'), ('05:30', '07:30')] \n",
    "\n",
    "    # Sample some random pairs of stops \n",
    "    sample_size = 10\n",
    "    sampled_pairs = random.sample(list(stop_to_id.keys()), sample_size * 2)  # Get 2 * sample_size to form pairs\n",
    "    sampled_pairs = [(sampled_pairs[i], sampled_pairs[i + 1]) for i in range(0, len(sampled_pairs), 2)]\n",
    "\n",
    "    # Only do the boundary test in the Lausanne area\n",
    "    lausanne_stops = [stop for stop in stop_to_id.keys() if 'Lausanne' in stop]\n",
    "    lausanne_sample = random.sample(lausanne_stops, sample_size * 2)\n",
    "    lausanne_pairs = [\n",
    "        (lausanne_sample[i], lausanne_sample[i + 1]) \n",
    "        for i in range(0, len(lausanne_sample), 2)\n",
    "    ]\n",
    "\n",
    "    all_generated_paths = []\n",
    "\n",
    "    # Peak time random test\n",
    "    G_peak = sbb_network.build_graph(peak_time[0], peak_time[1])\n",
    "    print(f'-----------Peak time test during {peak_time}-----------')\n",
    "    graph_sanity_check(G_peak)\n",
    "    print('...')\n",
    "    for departure, destination in sampled_pairs:\n",
    "        departure_id = stop_to_id.get(departure, None)\n",
    "        destination_id = stop_to_id.get(destination, None)\n",
    "        print(f\"Testing path from {departure} (ID: {departure_id}) to {destination} (ID: {destination_id})\")\n",
    "        if not departure_id or not destination_id:\n",
    "            print(f\" Invalid departure or destination for test: {departure}, {destination}\")\n",
    "            continue\n",
    "        try:\n",
    "            paths = yen_ksp(G_peak, peak_time[0], departure_id, destination_id)\n",
    "            if not paths:\n",
    "                print(f\" No paths found for {departure} to {destination} from {peak_time[0]} to {peak_time[1]}\")\n",
    "                continue\n",
    "            all_generated_paths.extend(paths)\n",
    "            print(f\" Generated {len(paths)} paths for {departure} to {destination}\")\n",
    "        except KeyError as e:\n",
    "            print(f\" KeyError generating paths for {departure} to {destination}: {e}\")\n",
    "        except Exception as e:\n",
    "            print(f\" Error generating paths for {departure} to {destination}: {e}\")\n",
    "\n",
    "    # City center boundary test (contains 'Lausanne')\n",
    "    for boundary_time in boundary_times:\n",
    "        G_boundary = sbb_network.build_graph(boundary_time[0], boundary_time[1])\n",
    "        print('\\n')\n",
    "        print(f'-----------Boundary time test during {boundary_time}-----------')\n",
    "        graph_sanity_check(G_boundary)\n",
    "        print('...')\n",
    "        for departure, destination in lausanne_pairs:\n",
    "            departure_id = stop_to_id.get(departure, None)\n",
    "            destination_id = stop_to_id.get(destination, None)\n",
    "            print(f\"Testing path from {departure} (ID: {departure_id}) to {destination} (ID: {destination_id})\")\n",
    "            if not departure_id or not destination_id:\n",
    "                print(f\" Invalid departure or destination for test: {departure}, {destination}\")\n",
    "                continue\n",
    "            try:\n",
    "                paths = yen_ksp(G_boundary, boundary_time[0], departure_id, destination_id)\n",
    "                if not paths:\n",
    "                    print(f\" No paths found for {departure} to {destination} from {boundary_time[0]} to {boundary_time[1]}\")\n",
    "                    continue\n",
    "                all_generated_paths.extend(paths)\n",
    "                print(f\" Generated {len(paths)} paths for {departure} to {destination}\")\n",
    "            except KeyError as e:\n",
    "                print(f\" KeyError generating paths for {departure} to {destination}: {e}\")\n",
    "            except Exception as e:\n",
    "                print(f\" Error generating paths for {departure} to {destination}: {e}\")\n",
    "\n",
    "    return all_generated_paths\n"
   ]
  },
  {
   "cell_type": "code",
   "execution_count": 3,
   "id": "22146402-9bee-4e70-bfc8-50b1234ae051",
   "metadata": {},
   "outputs": [
    {
     "name": "stdout",
     "output_type": "stream",
     "text": [
      "-----------Peak time test during ('10:00', '12:00')-----------\n",
      "Graph with 504 nodes passed the sanity check!\n",
      "...\n",
      "Testing path from Lausanne, Bellerive (ID: 8591989) to Epalinges, Grand Chemin (ID: 8591968)\n",
      " Generated 5 paths for Lausanne, Bellerive to Epalinges, Grand Chemin\n",
      "Testing path from Bussigny, Tatironne (ID: 8506905) to Lausanne, Praz-Berthoud (ID: 8592099)\n",
      " Generated 5 paths for Bussigny, Tatironne to Lausanne, Praz-Berthoud\n",
      "Testing path from Lausanne, Riant-Cour (ID: 8592110) to Lausanne, Ours (ID: 8579237)\n",
      " Generated 5 paths for Lausanne, Riant-Cour to Lausanne, Ours\n",
      "Testing path from Lausanne, Maladière-Figuiers (ID: 8593837) to Lausanne, Blécherette (ID: 8591994)\n",
      " Generated 5 paths for Lausanne, Maladière-Figuiers to Lausanne, Blécherette\n",
      "Testing path from Lausanne, Petit Château (ID: 8592091) to Ecublens VD, Perrettes (ID: 8591954)\n",
      " Generated 5 paths for Lausanne, Petit Château to Ecublens VD, Perrettes\n",
      "Testing path from Lausanne, EPSIC (ID: 8592041) to Pully, port (ID: 8588439)\n",
      " Generated 5 paths for Lausanne, EPSIC to Pully, port\n",
      "Testing path from Chavannes-R., Dorigny (ID: 8595602) to Ecublens VD, EPFL (bus) (ID: 8579233)\n",
      " Generated 5 paths for Chavannes-R., Dorigny to Ecublens VD, EPFL (bus)\n",
      "Testing path from Ecublens VD, Motty (ID: 8591951) to Renens VD, Longemalle (ID: 8592215)\n",
      " Generated 5 paths for Ecublens VD, Motty to Renens VD, Longemalle\n",
      "Testing path from Carrouge VD, Gustave Roud (ID: 8511210) to Carrouge VD, Champ du Trey (ID: 8511214)\n",
      " Generated 5 paths for Carrouge VD, Gustave Roud to Carrouge VD, Champ du Trey\n",
      "Testing path from Ecublens VD, Epenex/Pont-Bleu (ID: 8510721) to Lausanne, Libellules (ID: 8592066)\n",
      " Generated 5 paths for Ecublens VD, Epenex/Pont-Bleu to Lausanne, Libellules\n",
      "\n",
      "\n",
      "-----------Boundary time test during ('23:00', '01:00')-----------\n",
      "Graph with 474 nodes passed the sanity check!\n",
      "...\n",
      "Testing path from Lausanne, Mousquines (ID: 8592083) to Lausanne, Faverges (ID: 8592043)\n",
      " Generated 5 paths for Lausanne, Mousquines to Lausanne, Faverges\n",
      "Testing path from Lausanne, Petit Château (ID: 8592091) to Lausanne, Bergières (ID: 8591992)\n",
      " Generated 5 paths for Lausanne, Petit Château to Lausanne, Bergières\n",
      "Testing path from Lausanne, Mauvernay (ID: 8592070) to Lausanne, Maladière (ID: 8592068)\n",
      " Generated 1 paths for Lausanne, Mauvernay to Lausanne, Maladière\n",
      "Testing path from Lausanne, casernes (ID: 8592003) to Lausanne, Siège du CIO (ID: 8595934)\n",
      " Generated 5 paths for Lausanne, casernes to Lausanne, Siège du CIO\n",
      "Testing path from Lausanne, Vinet (ID: 8592135) to Lausanne, Jordils (ID: 8592061)\n",
      " Generated 5 paths for Lausanne, Vinet to Lausanne, Jordils\n",
      "Testing path from Lausanne, Boissonnet (ID: 8591997) to Lausanne, Montelly (ID: 8501207)\n",
      " Generated 5 paths for Lausanne, Boissonnet to Lausanne, Montelly\n",
      "Testing path from Lausanne, Champ-Rond (ID: 8592008) to Lausanne, Montolieu (ID: 8592081)\n",
      " Generated 5 paths for Lausanne, Champ-Rond to Lausanne, Montolieu\n",
      "Testing path from Lausanne, Port-Franc (ID: 8592098) to Lausanne, Alpes (ID: 8591979)\n",
      " Generated 5 paths for Lausanne, Port-Franc to Lausanne, Alpes\n",
      "Testing path from Lausanne, Elysée (ID: 8592039) to Lausanne, Vidy-Port (ID: 8595938)\n",
      " Generated 5 paths for Lausanne, Elysée to Lausanne, Vidy-Port\n",
      "Testing path from Lausanne, Bonne-Espérance (ID: 8591999) to Lausanne, Vallonnette (ID: 8592126)\n",
      " Generated 5 paths for Lausanne, Bonne-Espérance to Lausanne, Vallonnette\n",
      "\n",
      "\n",
      "-----------Boundary time test during ('05:30', '07:30')-----------\n",
      "Graph with 504 nodes passed the sanity check!\n",
      "...\n",
      "Testing path from Lausanne, Mousquines (ID: 8592083) to Lausanne, Faverges (ID: 8592043)\n",
      " Generated 5 paths for Lausanne, Mousquines to Lausanne, Faverges\n",
      "Testing path from Lausanne, Petit Château (ID: 8592091) to Lausanne, Bergières (ID: 8591992)\n",
      " Generated 5 paths for Lausanne, Petit Château to Lausanne, Bergières\n",
      "Testing path from Lausanne, Mauvernay (ID: 8592070) to Lausanne, Maladière (ID: 8592068)\n",
      " Generated 5 paths for Lausanne, Mauvernay to Lausanne, Maladière\n",
      "Testing path from Lausanne, casernes (ID: 8592003) to Lausanne, Siège du CIO (ID: 8595934)\n",
      " Generated 5 paths for Lausanne, casernes to Lausanne, Siège du CIO\n",
      "Testing path from Lausanne, Vinet (ID: 8592135) to Lausanne, Jordils (ID: 8592061)\n",
      " Generated 5 paths for Lausanne, Vinet to Lausanne, Jordils\n",
      "Testing path from Lausanne, Boissonnet (ID: 8591997) to Lausanne, Montelly (ID: 8501207)\n",
      " Generated 5 paths for Lausanne, Boissonnet to Lausanne, Montelly\n",
      "Testing path from Lausanne, Champ-Rond (ID: 8592008) to Lausanne, Montolieu (ID: 8592081)\n",
      " Generated 5 paths for Lausanne, Champ-Rond to Lausanne, Montolieu\n",
      "Testing path from Lausanne, Port-Franc (ID: 8592098) to Lausanne, Alpes (ID: 8591979)\n",
      " Generated 5 paths for Lausanne, Port-Franc to Lausanne, Alpes\n",
      "Testing path from Lausanne, Elysée (ID: 8592039) to Lausanne, Vidy-Port (ID: 8595938)\n",
      " Generated 5 paths for Lausanne, Elysée to Lausanne, Vidy-Port\n",
      "Testing path from Lausanne, Bonne-Espérance (ID: 8591999) to Lausanne, Vallonnette (ID: 8592126)\n",
      " Generated 5 paths for Lausanne, Bonne-Espérance to Lausanne, Vallonnette\n"
     ]
    }
   ],
   "source": [
    "generated_paths = generate_paths_for_tests()"
   ]
  },
  {
   "cell_type": "markdown",
   "id": "7227035d-93a3-4e7c-a8b6-3660f6a99c09",
   "metadata": {},
   "source": [
    "## Path Sanity Check\n",
    "\n",
    "We perform the following `path_sanity_check` on the generated paths:\n",
    "\n",
    "1. **Departure Time >= Arrival Time of the Previous Stop**: Ensure that the departure time from each stop is not earlier than the arrival time at the previous stop.\n",
    "2. **Transfer Time >= 2 Minutes**: Ensure that the departure time at any transfer stop is at least 2 minutes later than the last arrival time.\n",
    "3. **Walking Time <= 10 Minutes**: Ensure that walking time between stops does not exceed 10 minutes.\n",
    "\n",
    "These checks ensure that the generated paths are realistic and adhere to our assumptions."
   ]
  },
  {
   "cell_type": "code",
   "execution_count": 4,
   "id": "7d12586b-adbb-4182-8e83-9dcabc361043",
   "metadata": {
    "scrolled": true
   },
   "outputs": [
    {
     "name": "stdout",
     "output_type": "stream",
     "text": [
      "All paths passed the sanity check.\n"
     ]
    }
   ],
   "source": [
    "path_sanity_check(generated_paths)"
   ]
  },
  {
   "cell_type": "markdown",
   "id": "5ddb176b-57af-489f-bb97-df237ac9edf0",
   "metadata": {},
   "source": [
    "## Compare with Google Maps:\n",
    "Some examples"
   ]
  },
  {
   "cell_type": "code",
   "execution_count": 1,
   "id": "c1481595-bae0-4d5e-80f5-da062c9ebf64",
   "metadata": {},
   "outputs": [],
   "source": [
    "import pandas as pd\n",
    "import numpy as np\n",
    "import networkx as nx\n",
    "import copy\n",
    "import random\n",
    "from src.util import *\n",
    "from src.algorithm import *\n",
    "from src.transport_network import *\n",
    "from sanity_test.graph_test import *\n",
    "from sanity_test.path_test import *"
   ]
  },
  {
   "cell_type": "markdown",
   "id": "980dab19-8ba9-4e9b-bec5-90f8841d222d",
   "metadata": {},
   "source": [
    "### 1. Lausanne, Bellerive -> Ecublens, EPFL:\n",
    "- Arrive by 08:10 AM, Monday 27th May"
   ]
  },
  {
   "cell_type": "code",
   "execution_count": 110,
   "id": "7b498272-3253-4b59-ac3c-3fde85c73f73",
   "metadata": {},
   "outputs": [],
   "source": [
    "start_time = '07:40'\n",
    "expected_time = \"08:10\"\n",
    "departure = \"Lausanne, Bellerive\"\n",
    "destination = \"Ecublens VD, EPFL\""
   ]
  },
  {
   "cell_type": "code",
   "execution_count": 111,
   "id": "05028044-911e-4a11-a13c-9dbea944b331",
   "metadata": {},
   "outputs": [],
   "source": [
    "sbb_network = TransportNetwork('data/sbb_timetable_stop_times.parquet', 'data/stop_to_stop.csv', 'data/stops.csv')\n",
    "stops = sbb_network.stops\n",
    "stop_info = stops.set_index('stop_id')[['stop_lat', 'stop_lon', 'stop_name']].to_dict('index')\n",
    "stop_to_stop = sbb_network.stop_to_stop\n",
    "id_to_stop = stops.set_index('stop_id')['stop_name'].to_dict()\n",
    "stop_to_id = stops.set_index('stop_name')['stop_id'].to_dict()\n",
    "G = sbb_network.build_graph(start_time, expected_time)\n",
    "departure_id = stop_to_id[departure]\n",
    "destination_id = stop_to_id[destination]"
   ]
  },
  {
   "cell_type": "code",
   "execution_count": 112,
   "id": "10460684-e519-44d6-9078-0db40b82b106",
   "metadata": {},
   "outputs": [],
   "source": [
    "import importlib\n",
    "import src.algorithm\n",
    "importlib.reload(src.algorithm)\n",
    "from src.algorithm import *"
   ]
  },
  {
   "cell_type": "code",
   "execution_count": 113,
   "id": "3e95d3f8-e4eb-441d-adf5-afeaf011db1a",
   "metadata": {},
   "outputs": [
    {
     "name": "stdout",
     "output_type": "stream",
     "text": [
      "Path 1: Transfers: 1, Cost: 24 minutes, Walking: 0 minutes\n",
      "Depart from Lausanne, Bellerive(8591989) at 7:45: \n",
      "            Lausanne, Théâtre de Vidy(8592121) at 7:46 via 24\n",
      "            Lausanne, Vidy-Port(8595938) at 7:48 via 24\n",
      "            Lausanne, Stade de Coubertin(8595935) at 7:49 via 24\n",
      "            Lausanne, Siège du CIO(8595934) at 7:51 via 24\n",
      "            Lausanne, Parc Bourget(8595939) at 7:52 via 24\n",
      "            Lausanne, sports UNIL-EPFL(8595937) at 7:55 via 24\n",
      "            Lausanne, Bourdonnette(8501210) at 7:57 via 24\n",
      "                          (8501210-transfer) at 7:59 via transfer\n",
      "            Chavannes-R., UNIL-Chamberonne(8501211) at 8:04 via m1\n",
      "            Chavannes-R., UNIL-Mouline(8501212) at 8:05 via m1\n",
      "            Ecublens VD, UNIL-Sorge(8501213) at 8:06 via m1\n",
      "            Ecublens VD, EPFL(8501214) at 8:08 via m1\n",
      "Arrival at Ecublens VD, EPFL(8501214) at 8:08\n",
      "Path 2: Transfers: 1, Cost: 24 minutes, Walking: 7 minutes\n",
      "Depart from Lausanne, Bellerive(8591989) at 7:45: \n",
      "            Lausanne, Théâtre de Vidy(8592121) at 7:46 via 24\n",
      "            Lausanne, Vidy-Port(8595938) at 7:48 via 24\n",
      "            Lausanne, Stade de Coubertin(8595935) at 7:49 via 24\n",
      "            Lausanne, Siège du CIO(8595934) at 7:51 via 24\n",
      "            Lausanne, Parc Bourget(8595939) at 7:52 via 24\n",
      "            Lausanne, sports UNIL-EPFL(8595937) at 7:55 via 24\n",
      "            Chavannes-R., UNIL-Chamberonne(8501211) at 8:02 via walking\n",
      "                          (8501211-transfer) at 8:04 via transfer\n",
      "            Chavannes-R., UNIL-Mouline(8501212) at 8:05 via m1\n",
      "            Ecublens VD, UNIL-Sorge(8501213) at 8:06 via m1\n",
      "            Ecublens VD, EPFL(8501214) at 8:08 via m1\n",
      "Arrival at Ecublens VD, EPFL(8501214) at 8:08\n",
      "Path 3: Transfers: 2, Cost: 24 minutes, Walking: 0 minutes\n",
      "Depart from Lausanne, Bellerive(8591989) at 7:44: \n",
      "            Lausanne, Théâtre de Vidy(8592121) at 7:44 via 2\n",
      "                          (8592121-transfer) at 7:46 via transfer\n",
      "            Lausanne, Vidy-Port(8595938) at 7:48 via 24\n",
      "            Lausanne, Stade de Coubertin(8595935) at 7:49 via 24\n",
      "            Lausanne, Siège du CIO(8595934) at 7:51 via 24\n",
      "            Lausanne, Parc Bourget(8595939) at 7:52 via 24\n",
      "            Lausanne, sports UNIL-EPFL(8595937) at 7:55 via 24\n",
      "            Lausanne, Bourdonnette(8501210) at 7:57 via 24\n",
      "                          (8501210-transfer) at 7:59 via transfer\n",
      "            Chavannes-R., UNIL-Chamberonne(8501211) at 8:04 via m1\n",
      "            Chavannes-R., UNIL-Mouline(8501212) at 8:05 via m1\n",
      "            Ecublens VD, UNIL-Sorge(8501213) at 8:06 via m1\n",
      "            Ecublens VD, EPFL(8501214) at 8:08 via m1\n",
      "Arrival at Ecublens VD, EPFL(8501214) at 8:08\n"
     ]
    }
   ],
   "source": [
    "paths = yen_ksp(G, start_time, departure_id, destination_id)\n",
    "print_paths(paths, id_to_stop, stop_info, limit = 3)"
   ]
  },
  {
   "cell_type": "markdown",
   "id": "bcc6f5f8-aecd-4ddb-9b54-53f037010d5c",
   "metadata": {},
   "source": [
    "**The planner shows similar results as google map**\n",
    "![Google Map Route](img/google_epfl.png)"
   ]
  },
  {
   "cell_type": "markdown",
   "id": "97261438-377c-4cea-ac32-e2bd38e15951",
   "metadata": {},
   "source": [
    "### 2. Lausanne, Bellerive -> Lausanne, Gare:\n",
    "- Arrive by 6:00 AM, Monday 27th May"
   ]
  },
  {
   "cell_type": "code",
   "execution_count": 100,
   "id": "1e7308dd-a6fc-40b5-8555-618ccba61d67",
   "metadata": {},
   "outputs": [],
   "source": [
    "start_time = '05:40'\n",
    "expected_time = \"06:00\"\n",
    "departure = \"Lausanne, Bellerive\"\n",
    "destination = \"Lausanne, gare\"\n",
    "sbb_network = TransportNetwork('data/sbb_timetable_stop_times.parquet', 'data/stop_to_stop.csv', 'data/stops.csv')\n",
    "stops = sbb_network.stops\n",
    "stop_info = stops.set_index('stop_id')[['stop_lat', 'stop_lon', 'stop_name']].to_dict('index')\n",
    "stop_to_stop = sbb_network.stop_to_stop\n",
    "id_to_stop = stops.set_index('stop_id')['stop_name'].to_dict()\n",
    "stop_to_id = stops.set_index('stop_name')['stop_id'].to_dict()\n",
    "G = sbb_network.build_graph(start_time, expected_time)\n",
    "departure_id = stop_to_id[departure]\n",
    "destination_id = stop_to_id[destination]"
   ]
  },
  {
   "cell_type": "code",
   "execution_count": 101,
   "id": "2262663d-bccb-47e1-ad02-71ab9ae91b8c",
   "metadata": {},
   "outputs": [
    {
     "name": "stdout",
     "output_type": "stream",
     "text": [
      "Path 1: Transfers: 1, Cost: 11 minutes, Walking: 0 minutes\n",
      "Depart from Lausanne, Bellerive(8591989) at 5:42: \n",
      "            Lausanne, Pêcheurs(8592090) at 5:42 via 2\n",
      "            Lausanne, Ouchy-Olympique(8592086) at 5:44 via 2\n",
      "                          (8592086-transfer) at 5:46 via transfer\n",
      "            Lausanne, Jordils(8592061) at 5:50 via m2\n",
      "            Lausanne, Délices(8592028) at 5:51 via m2\n",
      "                          (8592052) at 5:52 via m2\n",
      "            Lausanne, gare(8592050) at 5:53 via m2\n",
      "Arrival at Lausanne, gare(8592050) at 5:53\n",
      "Path 2: Transfers: 1, Cost: 11 minutes, Walking: 0 minutes\n",
      "Depart from Lausanne, Bellerive(8591989) at 5:42: \n",
      "            Lausanne, Pêcheurs(8592090) at 5:42 via 2\n",
      "            Lausanne, Ouchy-Olympique(8592086) at 5:44 via 2\n",
      "            Lausanne, Beau-Rivage(8591986) at 5:45 via 2\n",
      "            Lausanne, Jordils(8592061) at 5:46 via 2\n",
      "                          (8592061-transfer) at 5:48 via transfer\n",
      "            Lausanne, Délices(8592028) at 5:51 via m2\n",
      "                          (8592052) at 5:52 via m2\n",
      "            Lausanne, gare(8592050) at 5:53 via m2\n",
      "Arrival at Lausanne, gare(8592050) at 5:53\n",
      "Path 3: Transfers: 1, Cost: 11 minutes, Walking: 0 minutes\n",
      "Depart from Lausanne, Bellerive(8591989) at 5:42: \n",
      "            Lausanne, Pêcheurs(8592090) at 5:42 via 2\n",
      "            Lausanne, Ouchy-Olympique(8592086) at 5:44 via 2\n",
      "                          (8592086-transfer) at 5:46 via transfer\n",
      "            Lausanne, Jordils(8592061) at 5:50 via m2\n",
      "            Lausanne, Délices(8592028) at 5:51 via m2\n",
      "                          (8592052) at 5:52 via m2\n",
      "            Lausanne, gare(8592050) at 5:53 via m2\n",
      "Arrival at Lausanne, gare(8592050) at 5:53\n"
     ]
    }
   ],
   "source": [
    "paths = yen_ksp(G, start_time, departure_id, destination_id)\n",
    "print_paths(paths, id_to_stop, stop_info, limit = 3)"
   ]
  },
  {
   "cell_type": "markdown",
   "id": "87a7606b-d7e3-4a25-857c-7f41d44def6f",
   "metadata": {},
   "source": [
    "**The planner shows similar results as google map**\n",
    "![Google Map Route](img/google_gare.png)"
   ]
  },
  {
   "cell_type": "markdown",
   "id": "592dd6f3-0a00-4635-93ff-e0d922695d7b",
   "metadata": {},
   "source": [
    "### 3. Lutry, Colline -> Renens VD, Censuy:\n",
    "- Arrive by 19:20 PM, Monday 27th May"
   ]
  },
  {
   "cell_type": "code",
   "execution_count": 108,
   "id": "c4a7be7b-6018-4f1d-95bd-f6be91bd54fc",
   "metadata": {},
   "outputs": [],
   "source": [
    "start_time = '18:40'\n",
    "expected_time = \"19:20\"\n",
    "departure = \"Lutry, Colline\"\n",
    "destination = \"Renens VD, Censuy\"\n",
    "sbb_network = TransportNetwork('data/sbb_timetable_stop_times.parquet', 'data/stop_to_stop.csv', 'data/stops.csv')\n",
    "stops = sbb_network.stops\n",
    "stop_info = stops.set_index('stop_id')[['stop_lat', 'stop_lon', 'stop_name']].to_dict('index')\n",
    "stop_to_stop = sbb_network.stop_to_stop\n",
    "id_to_stop = stops.set_index('stop_id')['stop_name'].to_dict()\n",
    "stop_to_id = stops.set_index('stop_name')['stop_id'].to_dict()\n",
    "G = sbb_network.build_graph(start_time, expected_time)\n",
    "departure_id = stop_to_id[departure]\n",
    "destination_id = stop_to_id[destination]"
   ]
  },
  {
   "cell_type": "code",
   "execution_count": 109,
   "id": "a9a936c6-2172-48b3-921b-6eb50af5996b",
   "metadata": {},
   "outputs": [
    {
     "name": "stdout",
     "output_type": "stream",
     "text": [
      "Path 1: Transfers: 2, Cost: 29 minutes, Walking: 5 minutes\n",
      "Depart from Lutry, Colline(8592151) at 18:43: \n",
      "            La Conversion, gare(8591976) at 18:44 via 68\n",
      "            La Conversion(8504010) at 18:46 via walking\n",
      "                          (8504010-transfer) at 18:48 via transfer\n",
      "            Pully-Nord(8504000) at 18:51 via 6\n",
      "            Lausanne(8501120) at 18:55 via 6\n",
      "            Prilly-Malley(8518452) at 19:01 via 6\n",
      "            Renens VD(8501118) at 19:04 via 6\n",
      "            Renens VD, gare sud(8588983) at 19:07 via walking\n",
      "                          (8588983-transfer) at 19:09 via transfer\n",
      "            Renens VD, Censuy(8592209) at 19:12 via 25\n",
      "Arrival at Renens VD, Censuy(8592209) at 19:12\n",
      "Path 2: Transfers: 2, Cost: 29 minutes, Walking: 10 minutes\n",
      "Depart from Lutry, Colline(8592151) at 18:40: \n",
      "            La Conversion(8504010) at 18:47 via walking\n",
      "                          (8504010-transfer) at 18:49 via transfer\n",
      "            Pully-Nord(8504000) at 18:51 via 6\n",
      "            Lausanne(8501120) at 18:55 via 6\n",
      "            Prilly-Malley(8518452) at 19:01 via 6\n",
      "            Renens VD(8501118) at 19:04 via 6\n",
      "            Renens VD, gare sud(8588983) at 19:07 via walking\n",
      "                          (8588983-transfer) at 19:09 via transfer\n",
      "            Renens VD, Censuy(8592209) at 19:12 via 25\n",
      "Arrival at Renens VD, Censuy(8592209) at 19:12\n",
      "Path 3: Transfers: 3, Cost: 29 minutes, Walking: 5 minutes\n",
      "Depart from Lutry, Colline(8592151) at 18:43: \n",
      "            La Conversion, gare(8591976) at 18:44 via 68\n",
      "            La Conversion(8504010) at 18:46 via walking\n",
      "                          (8504010-transfer) at 18:48 via transfer\n",
      "            Pully-Nord(8504000) at 18:51 via 6\n",
      "            Lausanne(8501120) at 18:55 via 6\n",
      "                          (8501120-transfer) at 18:57 via transfer\n",
      "            Prilly-Malley(8518452) at 19:01 via 6\n",
      "            Renens VD(8501118) at 19:04 via 6\n",
      "            Renens VD, gare sud(8588983) at 19:07 via walking\n",
      "                          (8588983-transfer) at 19:09 via transfer\n",
      "            Renens VD, Censuy(8592209) at 19:12 via 25\n",
      "Arrival at Renens VD, Censuy(8592209) at 19:12\n"
     ]
    }
   ],
   "source": [
    "paths = yen_ksp(G, start_time, departure_id, destination_id)\n",
    "print_paths(paths, id_to_stop, stop_info, limit = 3)"
   ]
  },
  {
   "cell_type": "markdown",
   "id": "f0fc4977-88fc-42a0-ad02-8c7891b833aa",
   "metadata": {},
   "source": [
    "**The planner shows similar results as google map**\n",
    "![Google Map Route](img/google_censuy.png)"
   ]
  },
  {
   "cell_type": "code",
   "execution_count": null,
   "id": "c53fd568-8240-4a07-966d-aaac71854890",
   "metadata": {},
   "outputs": [],
   "source": []
  }
 ],
 "metadata": {
  "kernelspec": {
   "display_name": "Python 3 (ipykernel)",
   "language": "python",
   "name": "python3"
  },
  "language_info": {
   "codemirror_mode": {
    "name": "ipython",
    "version": 3
   },
   "file_extension": ".py",
   "mimetype": "text/x-python",
   "name": "python",
   "nbconvert_exporter": "python",
   "pygments_lexer": "ipython3",
   "version": "3.11.7"
  }
 },
 "nbformat": 4,
 "nbformat_minor": 5
}

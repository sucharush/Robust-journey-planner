{
 "cells": [
  {
   "cell_type": "code",
   "execution_count": 15,
   "id": "91e17cb9-99cf-4dd3-821e-1b1b84a18d91",
   "metadata": {},
   "outputs": [],
   "source": [
    "import pandas as pd\n",
    "import numpy as np\n",
    "import networkx as nx\n",
    "import copy\n",
    "from src.util import *\n",
    "from src.algorithm import *\n",
    "from src.transport_network import *\n",
    "from validation.graph_test import *"
   ]
  },
  {
   "cell_type": "code",
   "execution_count": 16,
   "id": "fe38391d-c633-493c-83f7-8008bc365332",
   "metadata": {},
   "outputs": [],
   "source": [
    "import ipywidgets as widgets\n",
    "from IPython.display import display\n",
    "import plotly.graph_objects as go\n",
    "import plotly.express as px"
   ]
  },
  {
   "cell_type": "code",
   "execution_count": 19,
   "id": "82b5f0d0-f596-43e7-ae9c-df22842ea8e2",
   "metadata": {},
   "outputs": [],
   "source": [
    "sbb_network = TransportNetwork('data/sbb_timetable_stop_times.parquet', 'data/stop_to_stop.csv', 'data/stops.csv')\n",
    "stops = sbb_network.stops\n",
    "stop_to_stop = sbb_network.stop_to_stop\n",
    "id_to_stop = stops.set_index('stop_id')['stop_name'].to_dict()\n",
    "stop_to_id = stops.set_index('stop_name')['stop_id'].to_dict()"
   ]
  },
  {
   "cell_type": "code",
   "execution_count": 20,
   "id": "8b7a85f5-29d5-4e8a-a96f-ba6b12a71e73",
   "metadata": {},
   "outputs": [
    {
     "data": {
      "application/vnd.jupyter.widget-view+json": {
       "model_id": "ade4a11c69ba4e988462e7e92acfbf83",
       "version_major": 2,
       "version_minor": 0
      },
      "text/plain": [
       "Combobox(value='', description='From:', ensure_option=True, options=('Belmont-sur-L., Blessoney', 'Belmont-sur…"
      ]
     },
     "metadata": {},
     "output_type": "display_data"
    },
    {
     "data": {
      "application/vnd.jupyter.widget-view+json": {
       "model_id": "1d52a1c144184f49a9f10946af33b58f",
       "version_major": 2,
       "version_minor": 0
      },
      "text/plain": [
       "Combobox(value='', description='To:', ensure_option=True, options=('Belmont-sur-L., Blessoney', 'Belmont-sur-L…"
      ]
     },
     "metadata": {},
     "output_type": "display_data"
    },
    {
     "data": {
      "application/vnd.jupyter.widget-view+json": {
       "model_id": "c7241edda8c446a8995e9826f14ef855",
       "version_major": 2,
       "version_minor": 0
      },
      "text/plain": [
       "Combobox(value='', description='Depart:', ensure_option=True, options=('00:00', '00:01', '00:02', '00:03', '00…"
      ]
     },
     "metadata": {},
     "output_type": "display_data"
    },
    {
     "data": {
      "application/vnd.jupyter.widget-view+json": {
       "model_id": "08f5b9c38e594f6daf225b8a8a62154d",
       "version_major": 2,
       "version_minor": 0
      },
      "text/plain": [
       "Combobox(value='', description='Arrival at: ', ensure_option=True, options=('00:00', '00:01', '00:02', '00:03'…"
      ]
     },
     "metadata": {},
     "output_type": "display_data"
    },
    {
     "data": {
      "application/vnd.jupyter.widget-view+json": {
       "model_id": "a179838424484dbfb7b6d2d21d084ba6",
       "version_major": 2,
       "version_minor": 0
      },
      "text/plain": [
       "Button(description='Find Routes', style=ButtonStyle())"
      ]
     },
     "metadata": {},
     "output_type": "display_data"
    },
    {
     "data": {
      "application/vnd.jupyter.widget-view+json": {
       "model_id": "9a53d223bb28434ca901c7033bffc9e3",
       "version_major": 2,
       "version_minor": 0
      },
      "text/plain": [
       "Output()"
      ]
     },
     "metadata": {},
     "output_type": "display_data"
    }
   ],
   "source": [
    "# date_picker = widgets.DatePicker(\n",
    "#     description='Date:',\n",
    "#     disabled=False\n",
    "# )\n",
    "\n",
    "# objectID = widgets.Combobox(\n",
    "#     placeholder='City ID',\n",
    "#     options=cities,\n",
    "#     description='City: ',\n",
    "#     ensure_option=True,\n",
    "#     disabled=False\n",
    "# )\n",
    "\n",
    "departure_station = widgets.Combobox(\n",
    "    placeholder='Type or select',\n",
    "    options=stops.stop_name.to_list(),\n",
    "    description='From:',\n",
    "    ensure_option=True,\n",
    "    disabled=False\n",
    ")\n",
    "\n",
    "destination_station = widgets.Combobox(\n",
    "    placeholder='Type or select',\n",
    "    options=stops.stop_name.to_list(),\n",
    "    description='To:',\n",
    "    ensure_option=True,\n",
    "    disabled=False\n",
    ")\n",
    "\n",
    "depart_time = widgets.Combobox(\n",
    "    placeholder='Choose Time (HH:MM)',\n",
    "    options=[f\"{i:02}:{j:02}\" for i in range(24) for j in range(0,60)],  \n",
    "    description='Depart:',\n",
    "    ensure_option=True,\n",
    "    disabled=False\n",
    ")\n",
    "\n",
    "expected_arrival_time = widgets.Combobox(\n",
    "    placeholder='Choose Time (HH:MM)',\n",
    "    options=[f\"{i:02}:{j:02}\" for i in range(24) for j in range(0,60)],\n",
    "    description='Arrival at: ',\n",
    "    ensure_option=True,\n",
    "    disabled=False\n",
    ")\n",
    "\n",
    "button = widgets.Button(description=\"Find Routes\")\n",
    "\n",
    "output = widgets.Output()\n",
    "\n",
    "def on_button_clicked(b):\n",
    "    with output:\n",
    "        output.clear_output()\n",
    "\n",
    "        start_time = depart_time.value\n",
    "        departure = departure_station.value\n",
    "        destination = destination_station.value\n",
    "        expected_time = expected_arrival_time.value\n",
    "\n",
    "        G = sbb_network.build_graph(start_time, expected_time)\n",
    "        departure_id = stop_to_id[departure]\n",
    "        destination_id = stop_to_id[destination]\n",
    "        \n",
    "        paths = yen_ksp(G, start_time, departure_id, destination_id)\n",
    "\n",
    "        print_paths(paths, id_to_stop)\n",
    "\n",
    "        # Add map and routes here\n",
    "        \n",
    "\n",
    "button.on_click(on_button_clicked)\n",
    "\n",
    "display(departure_station, destination_station, depart_time, expected_arrival_time, button, output)"
   ]
  },
  {
   "cell_type": "code",
   "execution_count": null,
   "id": "34826f2c-ee97-4bb6-b276-29b7a6b1dd92",
   "metadata": {},
   "outputs": [],
   "source": []
  }
 ],
 "metadata": {
  "kernelspec": {
   "display_name": "Python 3 (ipykernel)",
   "language": "python",
   "name": "python3"
  },
  "language_info": {
   "codemirror_mode": {
    "name": "ipython",
    "version": 3
   },
   "file_extension": ".py",
   "mimetype": "text/x-python",
   "name": "python",
   "nbconvert_exporter": "python",
   "pygments_lexer": "ipython3",
   "version": "3.11.7"
  }
 },
 "nbformat": 4,
 "nbformat_minor": 5
}
